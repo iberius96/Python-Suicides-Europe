{
 "metadata": {
  "language_info": {
   "codemirror_mode": {
    "name": "ipython",
    "version": 3
   },
   "file_extension": ".py",
   "mimetype": "text/x-python",
   "name": "python",
   "nbconvert_exporter": "python",
   "pygments_lexer": "ipython3",
   "version": "3.8.3-final"
  },
  "orig_nbformat": 2,
  "kernelspec": {
   "name": "python3",
   "display_name": "Python 3"
  }
 },
 "nbformat": 4,
 "nbformat_minor": 2,
 "cells": [
  {
   "cell_type": "code",
   "execution_count": null,
   "metadata": {},
   "outputs": [],
   "source": [
    "su"
   ]
  },
  {
   "source": [
    "# Python Project - Samuele Ceol \n",
    "A case study on the correlation between the labour market and suicide rates in Europe"
   ],
   "cell_type": "markdown",
   "metadata": {}
  },
  {
   "cell_type": "code",
   "execution_count": 7,
   "metadata": {},
   "outputs": [],
   "source": [
    "import matplotlib.pyplot as plt \n",
    "import numpy as np \n",
    "import pandas as pd\n",
    "import seaborn as sns "
   ]
  },
  {
   "source": [
    "# OECD Data - Description\n",
    "\n",
    "For the OECD we have three distinct files, one for males, one for females and one aggregate (M/F).\n",
    "\n",
    "The dataset contains only data related to european countries.\n",
    "\n",
    "No age group distinction is provided.\n",
    "\n",
    "The column LOCATION identifies the interested country with a unique three letter abbreviation.\n",
    "\n",
    "Suicide rates are indicated as nr of suicides per 100.000 people.\n",
    "\n",
    "TODO - Flag codes?"
   ],
   "cell_type": "markdown",
   "metadata": {}
  },
  {
   "cell_type": "code",
   "execution_count": 154,
   "metadata": {},
   "outputs": [],
   "source": [
    "suicide_tot = pd.read_csv('./source/OECD_suicides_total.csv')\n",
    "suicide_male = pd.read_csv('./source/OECD_suicides_male.csv')\n",
    "suicide_female = pd.read_csv('./source/OECD_suicides_female.csv')"
   ]
  },
  {
   "cell_type": "code",
   "execution_count": 124,
   "metadata": {},
   "outputs": [
    {
     "output_type": "execute_result",
     "data": {
      "text/plain": [
       "(1064, 8)"
      ]
     },
     "metadata": {},
     "execution_count": 124
    }
   ],
   "source": [
    "suicide_tot.shape"
   ]
  },
  {
   "cell_type": "code",
   "execution_count": 125,
   "metadata": {},
   "outputs": [
    {
     "output_type": "stream",
     "name": "stdout",
     "text": [
      "<class 'pandas.core.frame.DataFrame'>\nRangeIndex: 1064 entries, 0 to 1063\nData columns (total 8 columns):\n #   Column      Non-Null Count  Dtype  \n---  ------      --------------  -----  \n 0   LOCATION    1064 non-null   object \n 1   INDICATOR   1064 non-null   object \n 2   SUBJECT     1064 non-null   object \n 3   MEASURE     1064 non-null   object \n 4   FREQUENCY   1064 non-null   object \n 5   TIME        1064 non-null   int64  \n 6   Value       1064 non-null   float64\n 7   Flag Codes  47 non-null     object \ndtypes: float64(1), int64(1), object(6)\nmemory usage: 66.6+ KB\n"
     ]
    }
   ],
   "source": [
    "suicide_tot.info()"
   ]
  },
  {
   "cell_type": "code",
   "execution_count": 126,
   "metadata": {},
   "outputs": [
    {
     "output_type": "execute_result",
     "data": {
      "text/plain": [
       "  LOCATION INDICATOR SUBJECT    MEASURE FREQUENCY  TIME  Value Flag Codes\n",
       "0      AUT   SUICIDE     TOT  100000PER         A  1960   24.2        NaN\n",
       "1      AUT   SUICIDE     TOT  100000PER         A  1961   23.2        NaN\n",
       "2      AUT   SUICIDE     TOT  100000PER         A  1962   23.8        NaN\n",
       "3      AUT   SUICIDE     TOT  100000PER         A  1963   23.0        NaN\n",
       "4      AUT   SUICIDE     TOT  100000PER         A  1964   24.1        NaN"
      ],
      "text/html": "<div>\n<style scoped>\n    .dataframe tbody tr th:only-of-type {\n        vertical-align: middle;\n    }\n\n    .dataframe tbody tr th {\n        vertical-align: top;\n    }\n\n    .dataframe thead th {\n        text-align: right;\n    }\n</style>\n<table border=\"1\" class=\"dataframe\">\n  <thead>\n    <tr style=\"text-align: right;\">\n      <th></th>\n      <th>LOCATION</th>\n      <th>INDICATOR</th>\n      <th>SUBJECT</th>\n      <th>MEASURE</th>\n      <th>FREQUENCY</th>\n      <th>TIME</th>\n      <th>Value</th>\n      <th>Flag Codes</th>\n    </tr>\n  </thead>\n  <tbody>\n    <tr>\n      <th>0</th>\n      <td>AUT</td>\n      <td>SUICIDE</td>\n      <td>TOT</td>\n      <td>100000PER</td>\n      <td>A</td>\n      <td>1960</td>\n      <td>24.2</td>\n      <td>NaN</td>\n    </tr>\n    <tr>\n      <th>1</th>\n      <td>AUT</td>\n      <td>SUICIDE</td>\n      <td>TOT</td>\n      <td>100000PER</td>\n      <td>A</td>\n      <td>1961</td>\n      <td>23.2</td>\n      <td>NaN</td>\n    </tr>\n    <tr>\n      <th>2</th>\n      <td>AUT</td>\n      <td>SUICIDE</td>\n      <td>TOT</td>\n      <td>100000PER</td>\n      <td>A</td>\n      <td>1962</td>\n      <td>23.8</td>\n      <td>NaN</td>\n    </tr>\n    <tr>\n      <th>3</th>\n      <td>AUT</td>\n      <td>SUICIDE</td>\n      <td>TOT</td>\n      <td>100000PER</td>\n      <td>A</td>\n      <td>1963</td>\n      <td>23.0</td>\n      <td>NaN</td>\n    </tr>\n    <tr>\n      <th>4</th>\n      <td>AUT</td>\n      <td>SUICIDE</td>\n      <td>TOT</td>\n      <td>100000PER</td>\n      <td>A</td>\n      <td>1964</td>\n      <td>24.1</td>\n      <td>NaN</td>\n    </tr>\n  </tbody>\n</table>\n</div>"
     },
     "metadata": {},
     "execution_count": 126
    }
   ],
   "source": [
    "suicide_tot.head()"
   ]
  },
  {
   "source": [
    "# OECD Data - Required actions\n",
    "\n",
    "We would like to join this three different entities into a single dataframe.\n",
    "\n",
    "We start by adding a column that identifies which category (Male/Female/Total) the dataframe refers to.\n"
   ],
   "cell_type": "markdown",
   "metadata": {}
  },
  {
   "cell_type": "code",
   "execution_count": 155,
   "metadata": {},
   "outputs": [],
   "source": [
    "suicide_tot['Sex']     = 'total'\n",
    "suicide_male['Sex']    = 'male'\n",
    "suicide_female['Sex']  = 'female'"
   ]
  },
  {
   "source": [
    "We then proceed to concatenate the three dataframes."
   ],
   "cell_type": "markdown",
   "metadata": {}
  },
  {
   "cell_type": "code",
   "execution_count": 156,
   "metadata": {},
   "outputs": [],
   "source": [
    "OECD_suicide = pd.concat([suicide_tot, suicide_male, suicide_female])"
   ]
  },
  {
   "source": [
    "We can discard the INDICATOR, SUBJECT, MEASURE and FREQUENCY columns since they are only descriptive and not needed for our analysis"
   ],
   "cell_type": "markdown",
   "metadata": {}
  },
  {
   "cell_type": "code",
   "execution_count": 157,
   "metadata": {},
   "outputs": [],
   "source": [
    "OECD_suicide = OECD_suicide.drop(['INDICATOR', 'SUBJECT', 'MEASURE', 'FREQUENCY', 'Flag Codes'], axis=1)"
   ]
  },
  {
   "source": [
    "To join the OECD dataset with the one provided by the World Health Organization, we want to change the three letters identifiers to the full country names.\n",
    "To do that, we use the pycountry library."
   ],
   "cell_type": "markdown",
   "metadata": {}
  },
  {
   "cell_type": "code",
   "execution_count": 158,
   "metadata": {},
   "outputs": [],
   "source": [
    "import pycountry\n",
    "\n",
    "OECD_suicide['LOCATION'] = OECD_suicide['LOCATION'].apply(\n",
    "    lambda x: pycountry.countries.get(alpha_3=x).name \n",
    "    if len(x) == 3 \n",
    "    else pycountry.countries.get(alpha_2=x).name\n",
    ")"
   ]
  },
  {
   "source": [
    "We can finally rename the remaining columns and see how the dataframe looks like.\n",
    "\n",
    "TODO - Maintain the groupby even though we don't have duplicates"
   ],
   "cell_type": "markdown",
   "metadata": {}
  },
  {
   "cell_type": "code",
   "execution_count": 159,
   "metadata": {},
   "outputs": [
    {
     "output_type": "execute_result",
     "data": {
      "text/plain": [
       "  LOCATION  TIME  Value    Sex\n",
       "0  Austria  1960   24.2  total\n",
       "1  Austria  1961   23.2  total\n",
       "2  Austria  1962   23.8  total\n",
       "3  Austria  1963   23.0  total\n",
       "4  Austria  1964   24.1  total"
      ],
      "text/html": "<div>\n<style scoped>\n    .dataframe tbody tr th:only-of-type {\n        vertical-align: middle;\n    }\n\n    .dataframe tbody tr th {\n        vertical-align: top;\n    }\n\n    .dataframe thead th {\n        text-align: right;\n    }\n</style>\n<table border=\"1\" class=\"dataframe\">\n  <thead>\n    <tr style=\"text-align: right;\">\n      <th></th>\n      <th>LOCATION</th>\n      <th>TIME</th>\n      <th>Value</th>\n      <th>Sex</th>\n    </tr>\n  </thead>\n  <tbody>\n    <tr>\n      <th>0</th>\n      <td>Austria</td>\n      <td>1960</td>\n      <td>24.2</td>\n      <td>total</td>\n    </tr>\n    <tr>\n      <th>1</th>\n      <td>Austria</td>\n      <td>1961</td>\n      <td>23.2</td>\n      <td>total</td>\n    </tr>\n    <tr>\n      <th>2</th>\n      <td>Austria</td>\n      <td>1962</td>\n      <td>23.8</td>\n      <td>total</td>\n    </tr>\n    <tr>\n      <th>3</th>\n      <td>Austria</td>\n      <td>1963</td>\n      <td>23.0</td>\n      <td>total</td>\n    </tr>\n    <tr>\n      <th>4</th>\n      <td>Austria</td>\n      <td>1964</td>\n      <td>24.1</td>\n      <td>total</td>\n    </tr>\n  </tbody>\n</table>\n</div>"
     },
     "metadata": {},
     "execution_count": 159
    }
   ],
   "source": [
    "OECD_suicide.head()"
   ]
  },
  {
   "cell_type": "code",
   "execution_count": 164,
   "metadata": {},
   "outputs": [
    {
     "output_type": "execute_result",
     "data": {
      "text/plain": [
       "                     suicides_no\n",
       "country year sex                \n",
       "Austria 1960 female         14.7\n",
       "             male           36.6\n",
       "             total          24.2\n",
       "        1961 female         13.7\n",
       "             male           35.5"
      ],
      "text/html": "<div>\n<style scoped>\n    .dataframe tbody tr th:only-of-type {\n        vertical-align: middle;\n    }\n\n    .dataframe tbody tr th {\n        vertical-align: top;\n    }\n\n    .dataframe thead th {\n        text-align: right;\n    }\n</style>\n<table border=\"1\" class=\"dataframe\">\n  <thead>\n    <tr style=\"text-align: right;\">\n      <th></th>\n      <th></th>\n      <th></th>\n      <th>suicides_no</th>\n    </tr>\n    <tr>\n      <th>country</th>\n      <th>year</th>\n      <th>sex</th>\n      <th></th>\n    </tr>\n  </thead>\n  <tbody>\n    <tr>\n      <th rowspan=\"5\" valign=\"top\">Austria</th>\n      <th rowspan=\"3\" valign=\"top\">1960</th>\n      <th>female</th>\n      <td>14.7</td>\n    </tr>\n    <tr>\n      <th>male</th>\n      <td>36.6</td>\n    </tr>\n    <tr>\n      <th>total</th>\n      <td>24.2</td>\n    </tr>\n    <tr>\n      <th rowspan=\"2\" valign=\"top\">1961</th>\n      <th>female</th>\n      <td>13.7</td>\n    </tr>\n    <tr>\n      <th>male</th>\n      <td>35.5</td>\n    </tr>\n  </tbody>\n</table>\n</div>"
     },
     "metadata": {},
     "execution_count": 164
    }
   ],
   "source": [
    "OECD_suicide.columns = ['country', 'year', 'suicides_no', 'sex']\n",
    "OECD_suicide.groupby(['country', 'year', 'sex']).sum().head()"
   ]
  },
  {
   "source": [
    "# WHO Data - Description\n",
    "\n",
    "For the data provided by the World Health Organization we have a single file containing data for males and females with a further division by age group.\n",
    "\n",
    "Suicide values are stored as totals unlike the previous dataframe where they were stored in relation to nr of suicides per 100.000.\n",
    "\n",
    "The dataframe also contains information related to the total population of the country in the given year.\n"
   ],
   "cell_type": "markdown",
   "metadata": {}
  },
  {
   "cell_type": "code",
   "execution_count": 95,
   "metadata": {},
   "outputs": [],
   "source": [
    "WHO_suicide = pd.read_csv('./source/WHO_suicides_aggregate.csv')"
   ]
  },
  {
   "cell_type": "code",
   "execution_count": 90,
   "metadata": {},
   "outputs": [
    {
     "output_type": "execute_result",
     "data": {
      "text/plain": [
       "(43776, 6)"
      ]
     },
     "metadata": {},
     "execution_count": 90
    }
   ],
   "source": [
    "WHO_suicide.shape"
   ]
  },
  {
   "cell_type": "code",
   "execution_count": 91,
   "metadata": {},
   "outputs": [
    {
     "output_type": "stream",
     "name": "stdout",
     "text": [
      "<class 'pandas.core.frame.DataFrame'>\nRangeIndex: 43776 entries, 0 to 43775\nData columns (total 6 columns):\n #   Column       Non-Null Count  Dtype  \n---  ------       --------------  -----  \n 0   country      43776 non-null  object \n 1   year         43776 non-null  int64  \n 2   sex          43776 non-null  object \n 3   age          43776 non-null  object \n 4   suicides_no  41520 non-null  float64\n 5   population   38316 non-null  float64\ndtypes: float64(2), int64(1), object(3)\nmemory usage: 2.0+ MB\n"
     ]
    }
   ],
   "source": [
    "WHO_suicide.info()"
   ]
  },
  {
   "cell_type": "code",
   "execution_count": 92,
   "metadata": {},
   "outputs": [
    {
     "output_type": "execute_result",
     "data": {
      "text/plain": [
       "   country  year     sex          age  suicides_no  population\n",
       "0  Albania  1985  female  15-24 years          NaN    277900.0\n",
       "1  Albania  1985  female  25-34 years          NaN    246800.0\n",
       "2  Albania  1985  female  35-54 years          NaN    267500.0\n",
       "3  Albania  1985  female   5-14 years          NaN    298300.0\n",
       "4  Albania  1985  female  55-74 years          NaN    138700.0"
      ],
      "text/html": "<div>\n<style scoped>\n    .dataframe tbody tr th:only-of-type {\n        vertical-align: middle;\n    }\n\n    .dataframe tbody tr th {\n        vertical-align: top;\n    }\n\n    .dataframe thead th {\n        text-align: right;\n    }\n</style>\n<table border=\"1\" class=\"dataframe\">\n  <thead>\n    <tr style=\"text-align: right;\">\n      <th></th>\n      <th>country</th>\n      <th>year</th>\n      <th>sex</th>\n      <th>age</th>\n      <th>suicides_no</th>\n      <th>population</th>\n    </tr>\n  </thead>\n  <tbody>\n    <tr>\n      <th>0</th>\n      <td>Albania</td>\n      <td>1985</td>\n      <td>female</td>\n      <td>15-24 years</td>\n      <td>NaN</td>\n      <td>277900.0</td>\n    </tr>\n    <tr>\n      <th>1</th>\n      <td>Albania</td>\n      <td>1985</td>\n      <td>female</td>\n      <td>25-34 years</td>\n      <td>NaN</td>\n      <td>246800.0</td>\n    </tr>\n    <tr>\n      <th>2</th>\n      <td>Albania</td>\n      <td>1985</td>\n      <td>female</td>\n      <td>35-54 years</td>\n      <td>NaN</td>\n      <td>267500.0</td>\n    </tr>\n    <tr>\n      <th>3</th>\n      <td>Albania</td>\n      <td>1985</td>\n      <td>female</td>\n      <td>5-14 years</td>\n      <td>NaN</td>\n      <td>298300.0</td>\n    </tr>\n    <tr>\n      <th>4</th>\n      <td>Albania</td>\n      <td>1985</td>\n      <td>female</td>\n      <td>55-74 years</td>\n      <td>NaN</td>\n      <td>138700.0</td>\n    </tr>\n  </tbody>\n</table>\n</div>"
     },
     "metadata": {},
     "execution_count": 92
    }
   ],
   "source": [
    "WHO_suicide.head()"
   ]
  },
  {
   "source": [
    "# WHO Data - Required actions\n",
    "\n",
    "As a starting point, we want to filter out the countries that are not in Europe"
   ],
   "cell_type": "markdown",
   "metadata": {}
  },
  {
   "cell_type": "code",
   "execution_count": null,
   "metadata": {},
   "outputs": [],
   "source": []
  },
  {
   "source": [
    "We can also drop the rows in which the suicide numbers are not present"
   ],
   "cell_type": "markdown",
   "metadata": {}
  },
  {
   "cell_type": "code",
   "execution_count": 96,
   "metadata": {},
   "outputs": [],
   "source": [
    "WHO_suicide = WHO_suicide[WHO_suicide['suicides_no'].notna()]"
   ]
  },
  {
   "source": [
    "For our analysis, we are not considering the differences between age groups.\n",
    "\n",
    "Because of this reason, we can drop the 'age' column and sum population and suicide numbers.\n"
   ],
   "cell_type": "markdown",
   "metadata": {}
  },
  {
   "cell_type": "code",
   "execution_count": 97,
   "metadata": {},
   "outputs": [],
   "source": [
    "WHO_suicide = WHO_suicide.drop('age', axis=1).groupby(['country', 'year', 'sex']).sum()"
   ]
  },
  {
   "source": [
    "Since the dataframe only has a division between males and females, we want to add a new category for the total values which contains the sum for both nr of suicides between males and females and value of the total population."
   ],
   "cell_type": "markdown",
   "metadata": {}
  },
  {
   "cell_type": "code",
   "execution_count": 98,
   "metadata": {},
   "outputs": [
    {
     "output_type": "execute_result",
     "data": {
      "text/plain": [
       "                     suicides_no  population\n",
       "country year sex                            \n",
       "Albania 1987 female         25.0   1316900.0\n",
       "             male           48.0   1392700.0\n",
       "        1988 female         22.0   1343600.0\n",
       "             male           41.0   1420700.0\n",
       "        1989 female         15.0   1363300.0"
      ],
      "text/html": "<div>\n<style scoped>\n    .dataframe tbody tr th:only-of-type {\n        vertical-align: middle;\n    }\n\n    .dataframe tbody tr th {\n        vertical-align: top;\n    }\n\n    .dataframe thead th {\n        text-align: right;\n    }\n</style>\n<table border=\"1\" class=\"dataframe\">\n  <thead>\n    <tr style=\"text-align: right;\">\n      <th></th>\n      <th></th>\n      <th></th>\n      <th>suicides_no</th>\n      <th>population</th>\n    </tr>\n    <tr>\n      <th>country</th>\n      <th>year</th>\n      <th>sex</th>\n      <th></th>\n      <th></th>\n    </tr>\n  </thead>\n  <tbody>\n    <tr>\n      <th rowspan=\"5\" valign=\"top\">Albania</th>\n      <th rowspan=\"2\" valign=\"top\">1987</th>\n      <th>female</th>\n      <td>25.0</td>\n      <td>1316900.0</td>\n    </tr>\n    <tr>\n      <th>male</th>\n      <td>48.0</td>\n      <td>1392700.0</td>\n    </tr>\n    <tr>\n      <th rowspan=\"2\" valign=\"top\">1988</th>\n      <th>female</th>\n      <td>22.0</td>\n      <td>1343600.0</td>\n    </tr>\n    <tr>\n      <th>male</th>\n      <td>41.0</td>\n      <td>1420700.0</td>\n    </tr>\n    <tr>\n      <th>1989</th>\n      <th>female</th>\n      <td>15.0</td>\n      <td>1363300.0</td>\n    </tr>\n  </tbody>\n</table>\n</div>"
     },
     "metadata": {},
     "execution_count": 98
    }
   ],
   "source": [
    "WHO_suicide.head()"
   ]
  },
  {
   "source": [
    "We can now convert the suicide values to suicides per 100.000 and then drop the population column."
   ],
   "cell_type": "markdown",
   "metadata": {}
  },
  {
   "cell_type": "code",
   "execution_count": null,
   "metadata": {},
   "outputs": [],
   "source": []
  }
 ]
}