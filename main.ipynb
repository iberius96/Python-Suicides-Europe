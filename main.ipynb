{
 "metadata": {
  "language_info": {
   "codemirror_mode": {
    "name": "ipython",
    "version": 3
   },
   "file_extension": ".py",
   "mimetype": "text/x-python",
   "name": "python",
   "nbconvert_exporter": "python",
   "pygments_lexer": "ipython3",
   "version": "3.8.3-final"
  },
  "orig_nbformat": 2,
  "kernelspec": {
   "name": "python3",
   "display_name": "Python 3"
  }
 },
 "nbformat": 4,
 "nbformat_minor": 2,
 "cells": [
  {
   "cell_type": "code",
   "execution_count": null,
   "metadata": {},
   "outputs": [],
   "source": [
    "su"
   ]
  },
  {
   "source": [
    "# Python Project - Samuele Ceol \n",
    "A case study on the correlation between the labour market and suicide rates in Europe"
   ],
   "cell_type": "markdown",
   "metadata": {}
  },
  {
   "cell_type": "code",
   "execution_count": 593,
   "metadata": {},
   "outputs": [],
   "source": [
    "import matplotlib.pyplot as plt \n",
    "import numpy as np \n",
    "import pandas as pd\n",
    "import seaborn as sns "
   ]
  },
  {
   "source": [
    "# OECD Data - Description\n",
    "\n",
    "For the OECD we have three distinct files, one for males, one for females and one aggregate (M/F).\n",
    "\n",
    "The dataset contains only data related to european countries.\n",
    "\n",
    "No age group distinction is provided.\n",
    "\n",
    "The column LOCATION identifies the interested country with a unique three letter abbreviation.\n",
    "\n",
    "Suicide rates are indicated as nr of suicides per 100.000 people.\n",
    "\n",
    "TODO - Flag codes?"
   ],
   "cell_type": "markdown",
   "metadata": {}
  },
  {
   "cell_type": "code",
   "execution_count": 594,
   "metadata": {},
   "outputs": [],
   "source": [
    "suicide_tot = pd.read_csv('./source/OECD_suicides_total.csv')\n",
    "suicide_male = pd.read_csv('./source/OECD_suicides_male.csv')\n",
    "suicide_female = pd.read_csv('./source/OECD_suicides_female.csv')"
   ]
  },
  {
   "cell_type": "code",
   "execution_count": 595,
   "metadata": {},
   "outputs": [
    {
     "output_type": "execute_result",
     "data": {
      "text/plain": [
       "(1955, 8)"
      ]
     },
     "metadata": {},
     "execution_count": 595
    }
   ],
   "source": [
    "suicide_tot.shape"
   ]
  },
  {
   "cell_type": "code",
   "execution_count": 596,
   "metadata": {},
   "outputs": [
    {
     "output_type": "stream",
     "name": "stdout",
     "text": [
      "<class 'pandas.core.frame.DataFrame'>\nRangeIndex: 1955 entries, 0 to 1954\nData columns (total 8 columns):\n #   Column      Non-Null Count  Dtype  \n---  ------      --------------  -----  \n 0   LOCATION    1955 non-null   object \n 1   INDICATOR   1955 non-null   object \n 2   SUBJECT     1955 non-null   object \n 3   MEASURE     1955 non-null   object \n 4   FREQUENCY   1955 non-null   object \n 5   TIME        1955 non-null   int64  \n 6   Value       1955 non-null   float64\n 7   Flag Codes  98 non-null     object \ndtypes: float64(1), int64(1), object(6)\nmemory usage: 122.3+ KB\n"
     ]
    }
   ],
   "source": [
    "suicide_tot.info()"
   ]
  },
  {
   "cell_type": "code",
   "execution_count": 597,
   "metadata": {},
   "outputs": [
    {
     "output_type": "execute_result",
     "data": {
      "text/plain": [
       "  LOCATION INDICATOR SUBJECT    MEASURE FREQUENCY  TIME  Value Flag Codes\n",
       "0      AUS   SUICIDE     TOT  100000PER         A  1960   13.1        NaN\n",
       "1      AUS   SUICIDE     TOT  100000PER         A  1961   14.5        NaN\n",
       "2      AUS   SUICIDE     TOT  100000PER         A  1962   16.9        NaN\n",
       "3      AUS   SUICIDE     TOT  100000PER         A  1963   19.2        NaN\n",
       "4      AUS   SUICIDE     TOT  100000PER         A  1964   17.8        NaN"
      ],
      "text/html": "<div>\n<style scoped>\n    .dataframe tbody tr th:only-of-type {\n        vertical-align: middle;\n    }\n\n    .dataframe tbody tr th {\n        vertical-align: top;\n    }\n\n    .dataframe thead th {\n        text-align: right;\n    }\n</style>\n<table border=\"1\" class=\"dataframe\">\n  <thead>\n    <tr style=\"text-align: right;\">\n      <th></th>\n      <th>LOCATION</th>\n      <th>INDICATOR</th>\n      <th>SUBJECT</th>\n      <th>MEASURE</th>\n      <th>FREQUENCY</th>\n      <th>TIME</th>\n      <th>Value</th>\n      <th>Flag Codes</th>\n    </tr>\n  </thead>\n  <tbody>\n    <tr>\n      <th>0</th>\n      <td>AUS</td>\n      <td>SUICIDE</td>\n      <td>TOT</td>\n      <td>100000PER</td>\n      <td>A</td>\n      <td>1960</td>\n      <td>13.1</td>\n      <td>NaN</td>\n    </tr>\n    <tr>\n      <th>1</th>\n      <td>AUS</td>\n      <td>SUICIDE</td>\n      <td>TOT</td>\n      <td>100000PER</td>\n      <td>A</td>\n      <td>1961</td>\n      <td>14.5</td>\n      <td>NaN</td>\n    </tr>\n    <tr>\n      <th>2</th>\n      <td>AUS</td>\n      <td>SUICIDE</td>\n      <td>TOT</td>\n      <td>100000PER</td>\n      <td>A</td>\n      <td>1962</td>\n      <td>16.9</td>\n      <td>NaN</td>\n    </tr>\n    <tr>\n      <th>3</th>\n      <td>AUS</td>\n      <td>SUICIDE</td>\n      <td>TOT</td>\n      <td>100000PER</td>\n      <td>A</td>\n      <td>1963</td>\n      <td>19.2</td>\n      <td>NaN</td>\n    </tr>\n    <tr>\n      <th>4</th>\n      <td>AUS</td>\n      <td>SUICIDE</td>\n      <td>TOT</td>\n      <td>100000PER</td>\n      <td>A</td>\n      <td>1964</td>\n      <td>17.8</td>\n      <td>NaN</td>\n    </tr>\n  </tbody>\n</table>\n</div>"
     },
     "metadata": {},
     "execution_count": 597
    }
   ],
   "source": [
    "suicide_tot.head()"
   ]
  },
  {
   "source": [
    "# OECD Data - Required actions\n",
    "\n",
    "We would like to join this three different entities into a single dataframe.\n",
    "\n",
    "We start by adding a column that identifies which category (Male/Female/Total) the dataframe refers to.\n"
   ],
   "cell_type": "markdown",
   "metadata": {}
  },
  {
   "cell_type": "code",
   "execution_count": 598,
   "metadata": {},
   "outputs": [],
   "source": [
    "suicide_tot['Sex']     = 'total'\n",
    "suicide_male['Sex']    = 'male'\n",
    "suicide_female['Sex']  = 'female'"
   ]
  },
  {
   "source": [
    "We then proceed to concatenate the three dataframes."
   ],
   "cell_type": "markdown",
   "metadata": {}
  },
  {
   "cell_type": "code",
   "execution_count": 599,
   "metadata": {},
   "outputs": [],
   "source": [
    "OECD_suicide = pd.concat([suicide_tot, suicide_male, suicide_female])"
   ]
  },
  {
   "source": [
    "We can discard the INDICATOR, SUBJECT, MEASURE and FREQUENCY columns since they are only descriptive and not needed for our analysis"
   ],
   "cell_type": "markdown",
   "metadata": {}
  },
  {
   "cell_type": "code",
   "execution_count": 600,
   "metadata": {},
   "outputs": [],
   "source": [
    "OECD_suicide = OECD_suicide.drop(['INDICATOR', 'SUBJECT', 'MEASURE', 'FREQUENCY', 'Flag Codes'], axis=1)"
   ]
  },
  {
   "source": [
    "To join the OECD dataset with the one provided by the World Health Organization, we want to change the three letters identifiers to the full country names.\n",
    "To do that, we use the pycountry library."
   ],
   "cell_type": "markdown",
   "metadata": {}
  },
  {
   "cell_type": "code",
   "execution_count": 601,
   "metadata": {},
   "outputs": [],
   "source": [
    "import pycountry\n",
    "\n",
    "OECD_suicide['LOCATION'] = OECD_suicide['LOCATION'].apply(\n",
    "    lambda x: pycountry.countries.get(alpha_3=x).name \n",
    "    if len(x) == 3 \n",
    "    else pycountry.countries.get(alpha_2=x).name\n",
    ")"
   ]
  },
  {
   "source": [
    "We can now filter out the countries in the dataset that are not in Europe\n",
    "\n",
    "TODO - find out if there is a better way to get the list of european countries"
   ],
   "cell_type": "markdown",
   "metadata": {}
  },
  {
   "cell_type": "code",
   "execution_count": 602,
   "metadata": {},
   "outputs": [
    {
     "output_type": "stream",
     "name": "stdout",
     "text": [
      "Initial nr of countries: \n41\nFinal nr of countries: \n28\nEuropean countries not present in this dataset: \n['Ukraine', 'Romania', 'Belarus', 'Kazakhstan', 'Bulgaria', 'Serbia', 'Croatia', 'Bosnia and Herzegovina', 'Moldova', 'Armenia', 'Albania', 'North Macedonia', 'Montenegro', 'Kosovo', 'Azerbaijan', 'Cyprus', 'Georgia', 'Andorra', 'Malta', 'Liechtenstein', 'San Marino', 'Monaco', 'Vatican City']\n"
     ]
    }
   ],
   "source": [
    "euro_countries = ['Russian Federation','Ukraine','France','Spain','Sweden','Norway','Germany','Finland','Poland','Italy','United Kingdom','Romania','Belarus','Kazakhstan','Greece','Bulgaria','Iceland','Hungary','Portugal','Austria','Czechia','Serbia','Ireland','Lithuania','Latvia','Croatia','Bosnia and Herzegovina','Slovakia','Estonia','Denmark','Switzerland','Netherlands','Moldova','Belgium','Armenia','Albania','North Macedonia','Turkey','Slovenia','Montenegro','Kosovo','Azerbaijan','Cyprus','Luxembourg','Georgia','Andorra','Malta','Liechtenstein','San Marino','Monaco','Vatican City']\n",
    "\n",
    "print('Initial nr of countries: ')\n",
    "print(OECD_suicide['LOCATION'].nunique())\n",
    "\n",
    "OECD_suicide = OECD_suicide[OECD_suicide['LOCATION'].isin(euro_countries)]\n",
    "\n",
    "print('Final nr of countries: ')\n",
    "print(OECD_suicide['LOCATION'].nunique())\n",
    "\n",
    "#List of european countries that are not present in this dataset\n",
    "print('European countries not present in this dataset: ')\n",
    "print([x for x in euro_countries if x not in OECD_suicide['LOCATION'].unique().tolist()])"
   ]
  },
  {
   "source": [
    "We can finally rename the remaining columns and see how the dataframe looks like.\n",
    "\n",
    "TODO - Maintain the groupby even though we don't have duplicates"
   ],
   "cell_type": "markdown",
   "metadata": {}
  },
  {
   "cell_type": "code",
   "execution_count": 603,
   "metadata": {},
   "outputs": [
    {
     "output_type": "execute_result",
     "data": {
      "text/plain": [
       "   LOCATION  TIME  Value    Sex\n",
       "57  Austria  1960   24.2  total\n",
       "58  Austria  1961   23.2  total\n",
       "59  Austria  1962   23.8  total\n",
       "60  Austria  1963   23.0  total\n",
       "61  Austria  1964   24.1  total"
      ],
      "text/html": "<div>\n<style scoped>\n    .dataframe tbody tr th:only-of-type {\n        vertical-align: middle;\n    }\n\n    .dataframe tbody tr th {\n        vertical-align: top;\n    }\n\n    .dataframe thead th {\n        text-align: right;\n    }\n</style>\n<table border=\"1\" class=\"dataframe\">\n  <thead>\n    <tr style=\"text-align: right;\">\n      <th></th>\n      <th>LOCATION</th>\n      <th>TIME</th>\n      <th>Value</th>\n      <th>Sex</th>\n    </tr>\n  </thead>\n  <tbody>\n    <tr>\n      <th>57</th>\n      <td>Austria</td>\n      <td>1960</td>\n      <td>24.2</td>\n      <td>total</td>\n    </tr>\n    <tr>\n      <th>58</th>\n      <td>Austria</td>\n      <td>1961</td>\n      <td>23.2</td>\n      <td>total</td>\n    </tr>\n    <tr>\n      <th>59</th>\n      <td>Austria</td>\n      <td>1962</td>\n      <td>23.8</td>\n      <td>total</td>\n    </tr>\n    <tr>\n      <th>60</th>\n      <td>Austria</td>\n      <td>1963</td>\n      <td>23.0</td>\n      <td>total</td>\n    </tr>\n    <tr>\n      <th>61</th>\n      <td>Austria</td>\n      <td>1964</td>\n      <td>24.1</td>\n      <td>total</td>\n    </tr>\n  </tbody>\n</table>\n</div>"
     },
     "metadata": {},
     "execution_count": 603
    }
   ],
   "source": [
    "OECD_suicide.head()"
   ]
  },
  {
   "cell_type": "code",
   "execution_count": 604,
   "metadata": {},
   "outputs": [],
   "source": [
    "OECD_suicide.columns = ['country', 'year', 'suicides_no', 'sex']\n",
    "OECD_suicide = OECD_suicide.sort_values(['country', 'year','sex']).reset_index(drop = True)"
   ]
  },
  {
   "cell_type": "code",
   "execution_count": 605,
   "metadata": {},
   "outputs": [
    {
     "output_type": "execute_result",
     "data": {
      "text/plain": [
       "   country  year  suicides_no     sex\n",
       "0  Austria  1960         14.7  female\n",
       "1  Austria  1960         36.6    male\n",
       "2  Austria  1960         24.2   total\n",
       "3  Austria  1961         13.7  female\n",
       "4  Austria  1961         35.5    male"
      ],
      "text/html": "<div>\n<style scoped>\n    .dataframe tbody tr th:only-of-type {\n        vertical-align: middle;\n    }\n\n    .dataframe tbody tr th {\n        vertical-align: top;\n    }\n\n    .dataframe thead th {\n        text-align: right;\n    }\n</style>\n<table border=\"1\" class=\"dataframe\">\n  <thead>\n    <tr style=\"text-align: right;\">\n      <th></th>\n      <th>country</th>\n      <th>year</th>\n      <th>suicides_no</th>\n      <th>sex</th>\n    </tr>\n  </thead>\n  <tbody>\n    <tr>\n      <th>0</th>\n      <td>Austria</td>\n      <td>1960</td>\n      <td>14.7</td>\n      <td>female</td>\n    </tr>\n    <tr>\n      <th>1</th>\n      <td>Austria</td>\n      <td>1960</td>\n      <td>36.6</td>\n      <td>male</td>\n    </tr>\n    <tr>\n      <th>2</th>\n      <td>Austria</td>\n      <td>1960</td>\n      <td>24.2</td>\n      <td>total</td>\n    </tr>\n    <tr>\n      <th>3</th>\n      <td>Austria</td>\n      <td>1961</td>\n      <td>13.7</td>\n      <td>female</td>\n    </tr>\n    <tr>\n      <th>4</th>\n      <td>Austria</td>\n      <td>1961</td>\n      <td>35.5</td>\n      <td>male</td>\n    </tr>\n  </tbody>\n</table>\n</div>"
     },
     "metadata": {},
     "execution_count": 605
    }
   ],
   "source": [
    "OECD_suicide.head()"
   ]
  },
  {
   "source": [
    "# WHO Data - Description\n",
    "\n",
    "For the data provided by the World Health Organization we have a single file containing data for males and females with a further division by age group.\n",
    "\n",
    "Suicide values are stored as totals unlike the previous dataframe where they were stored in relation to nr of suicides per 100.000.\n",
    "\n",
    "The dataframe also contains information related to the total population of the country in the given year.\n"
   ],
   "cell_type": "markdown",
   "metadata": {}
  },
  {
   "cell_type": "code",
   "execution_count": 606,
   "metadata": {},
   "outputs": [],
   "source": [
    "WHO_suicide = pd.read_csv('./source/WHO_suicides_aggregate.csv')"
   ]
  },
  {
   "cell_type": "code",
   "execution_count": 607,
   "metadata": {},
   "outputs": [
    {
     "output_type": "execute_result",
     "data": {
      "text/plain": [
       "(43776, 6)"
      ]
     },
     "metadata": {},
     "execution_count": 607
    }
   ],
   "source": [
    "WHO_suicide.shape"
   ]
  },
  {
   "cell_type": "code",
   "execution_count": 608,
   "metadata": {},
   "outputs": [
    {
     "output_type": "stream",
     "name": "stdout",
     "text": [
      "<class 'pandas.core.frame.DataFrame'>\nRangeIndex: 43776 entries, 0 to 43775\nData columns (total 6 columns):\n #   Column       Non-Null Count  Dtype  \n---  ------       --------------  -----  \n 0   country      43776 non-null  object \n 1   year         43776 non-null  int64  \n 2   sex          43776 non-null  object \n 3   age          43776 non-null  object \n 4   suicides_no  41520 non-null  float64\n 5   population   38316 non-null  float64\ndtypes: float64(2), int64(1), object(3)\nmemory usage: 2.0+ MB\n"
     ]
    }
   ],
   "source": [
    "WHO_suicide.info()"
   ]
  },
  {
   "cell_type": "code",
   "execution_count": 609,
   "metadata": {},
   "outputs": [
    {
     "output_type": "execute_result",
     "data": {
      "text/plain": [
       "   country  year     sex          age  suicides_no  population\n",
       "0  Albania  1985  female  15-24 years          NaN    277900.0\n",
       "1  Albania  1985  female  25-34 years          NaN    246800.0\n",
       "2  Albania  1985  female  35-54 years          NaN    267500.0\n",
       "3  Albania  1985  female   5-14 years          NaN    298300.0\n",
       "4  Albania  1985  female  55-74 years          NaN    138700.0"
      ],
      "text/html": "<div>\n<style scoped>\n    .dataframe tbody tr th:only-of-type {\n        vertical-align: middle;\n    }\n\n    .dataframe tbody tr th {\n        vertical-align: top;\n    }\n\n    .dataframe thead th {\n        text-align: right;\n    }\n</style>\n<table border=\"1\" class=\"dataframe\">\n  <thead>\n    <tr style=\"text-align: right;\">\n      <th></th>\n      <th>country</th>\n      <th>year</th>\n      <th>sex</th>\n      <th>age</th>\n      <th>suicides_no</th>\n      <th>population</th>\n    </tr>\n  </thead>\n  <tbody>\n    <tr>\n      <th>0</th>\n      <td>Albania</td>\n      <td>1985</td>\n      <td>female</td>\n      <td>15-24 years</td>\n      <td>NaN</td>\n      <td>277900.0</td>\n    </tr>\n    <tr>\n      <th>1</th>\n      <td>Albania</td>\n      <td>1985</td>\n      <td>female</td>\n      <td>25-34 years</td>\n      <td>NaN</td>\n      <td>246800.0</td>\n    </tr>\n    <tr>\n      <th>2</th>\n      <td>Albania</td>\n      <td>1985</td>\n      <td>female</td>\n      <td>35-54 years</td>\n      <td>NaN</td>\n      <td>267500.0</td>\n    </tr>\n    <tr>\n      <th>3</th>\n      <td>Albania</td>\n      <td>1985</td>\n      <td>female</td>\n      <td>5-14 years</td>\n      <td>NaN</td>\n      <td>298300.0</td>\n    </tr>\n    <tr>\n      <th>4</th>\n      <td>Albania</td>\n      <td>1985</td>\n      <td>female</td>\n      <td>55-74 years</td>\n      <td>NaN</td>\n      <td>138700.0</td>\n    </tr>\n  </tbody>\n</table>\n</div>"
     },
     "metadata": {},
     "execution_count": 609
    }
   ],
   "source": [
    "WHO_suicide.head()"
   ]
  },
  {
   "source": [
    "# WHO Data - Required actions\n",
    "\n",
    "Just like for the OECD data, we filter out the countries that are not in Europe."
   ],
   "cell_type": "markdown",
   "metadata": {}
  },
  {
   "cell_type": "code",
   "execution_count": 610,
   "metadata": {},
   "outputs": [
    {
     "output_type": "stream",
     "name": "stdout",
     "text": [
      "Initial nr of countries: \n",
      "141\n",
      "Final nr of countries: \n",
      "44\n",
      "European countries not present in this dataset: \n",
      "['Czechia', 'Moldova', 'North Macedonia', 'Kosovo', 'Andorra', 'Liechtenstein', 'Vatican City']\n"
     ]
    }
   ],
   "source": [
    "print('Initial nr of countries: ')\n",
    "print(WHO_suicide['country'].nunique())\n",
    "\n",
    "WHO_suicide = WHO_suicide[WHO_suicide['country'].isin(euro_countries)]\n",
    "\n",
    "print('Final nr of countries: ')\n",
    "print(WHO_suicide['country'].nunique())\n",
    "\n",
    "#List of european countries that are not present in this dataset\n",
    "print('European countries not present in this dataset: ')\n",
    "print([x for x in euro_countries if x not in WHO_suicide['country'].unique().tolist()])"
   ]
  },
  {
   "source": [
    "We can also drop the rows in which suicide data is not present."
   ],
   "cell_type": "markdown",
   "metadata": {}
  },
  {
   "cell_type": "code",
   "execution_count": 611,
   "metadata": {},
   "outputs": [],
   "source": [
    "WHO_suicide = WHO_suicide[WHO_suicide['suicides_no'].notna()]"
   ]
  },
  {
   "source": [
    "For our analysis, we are not considering the differences between age groups.\n",
    "\n",
    "Because of this reason, we can drop the 'age' column and sum population and suicide numbers.\n"
   ],
   "cell_type": "markdown",
   "metadata": {}
  },
  {
   "cell_type": "code",
   "execution_count": 612,
   "metadata": {},
   "outputs": [],
   "source": [
    "WHO_suicide = WHO_suicide.drop('age', axis=1).groupby(['country', 'year', 'sex']).sum().unstack()"
   ]
  },
  {
   "source": [
    "Since the dataframe only has a division between males and females, we want to add a new category for the total values which contains the sum for both nr of suicides between males and females and value of the total population.\n",
    "\n",
    "To facilitate this process, we compute the totals for suicides numbers and population in two different variables and then merge them.\n",
    "\n",
    "We then flatten the hierarchical index\n"
   ],
   "cell_type": "markdown",
   "metadata": {}
  },
  {
   "cell_type": "code",
   "execution_count": 613,
   "metadata": {},
   "outputs": [],
   "source": [
    "WHO_suicide_mf      = WHO_suicide['suicides_no'].assign(total=WHO_suicide['suicides_no'].sum(1)).stack(level='sex')\n",
    "WHO_population_mf   = WHO_suicide['population'].assign(total=WHO_suicide['population'].sum(1)).stack(level='sex')\n",
    "\n",
    "WHO_suicide = pd.DataFrame(\n",
    "    pd.concat(\n",
    "        [WHO_suicide_mf, WHO_population_mf], \n",
    "        axis=1\n",
    "    ).to_records()).rename(columns = {'0':'suicides_no', '1':'population'}\n",
    ") "
   ]
  },
  {
   "source": [
    "Before converting the suicide nr to suicide rates, we should first address the few rows with missing population data.\n",
    "\n",
    "My initial idea was to use The World Bank census data in order to fill in the gaps in the poulation numbers for the WHO dataset\n",
    "\n",
    "The following (now commented) code, was used to drop the columns were not needed, pivot longer the year columns and filter out the non european countries."
   ],
   "cell_type": "markdown",
   "metadata": {}
  },
  {
   "cell_type": "code",
   "execution_count": 614,
   "metadata": {},
   "outputs": [
    {
     "output_type": "execute_result",
     "data": {
      "text/plain": [
       "\"\\ncensus_tot      = pd.read_csv('./source/census_total.csv').drop(['Country Code', 'Indicator Code'], axis=1)\\ncensus_male     = pd.read_csv('./source/census_male.csv').drop(['Country Code', 'Indicator Code'], axis=1)\\ncensus_female   = pd.read_csv('./source/census_female.csv').drop(['Country Code', 'Indicator Code'], axis=1)\\n\\ncensus = pd.concat([census_tot, census_male, census_female])\\n\\ncensus = pd.melt(\\n    census, \\n    id_vars = ['Country Name', 'Indicator Name'], \\n    value_vars = [str(i).zfill(4) for i in range(1960,2020)], \\n    var_name='year', \\n    value_name='population'\\n).sort_values(\\n    ['Country Name', 'year', 'Indicator Name']\\n)\\n\\ncensus = census[census['Country Name'].isin(euro_countries)]\\ncensus\\n\""
      ]
     },
     "metadata": {},
     "execution_count": 614
    }
   ],
   "source": [
    "'''\n",
    "census_tot      = pd.read_csv('./source/census_total.csv').drop(['Country Code', 'Indicator Code'], axis=1)\n",
    "census_male     = pd.read_csv('./source/census_male.csv').drop(['Country Code', 'Indicator Code'], axis=1)\n",
    "census_female   = pd.read_csv('./source/census_female.csv').drop(['Country Code', 'Indicator Code'], axis=1)\n",
    "\n",
    "census = pd.concat([census_tot, census_male, census_female])\n",
    "\n",
    "census = pd.melt(\n",
    "    census, \n",
    "    id_vars = ['Country Name', 'Indicator Name'], \n",
    "    value_vars = [str(i).zfill(4) for i in range(1960,2020)], \n",
    "    var_name='year', \n",
    "    value_name='population'\n",
    ").sort_values(\n",
    "    ['Country Name', 'year', 'Indicator Name']\n",
    ")\n",
    "\n",
    "census = census[census['Country Name'].isin(euro_countries)]\n",
    "census\n",
    "'''"
   ]
  },
  {
   "source": [
    "This solution was not implemented because I later realized that:\n",
    "\n",
    "    - Only 9 rows, out of the total 3759, were missing this data\n",
    "    - The two interested countries (Monaco and San Marino) were missing this data also in the other datasets\n",
    "\n",
    "Given the small amount of interested rows, we can drop them without compromising the value of our data."
   ],
   "cell_type": "markdown",
   "metadata": {}
  },
  {
   "cell_type": "code",
   "execution_count": 615,
   "metadata": {},
   "outputs": [],
   "source": [
    "WHO_suicide = WHO_suicide[WHO_suicide['population'] != 0]"
   ]
  },
  {
   "source": [
    "We can now convert the suicide values to suicides per 100.000 and then drop the population column.\n",
    "\n",
    "Suicide rate = (Nr of suicides / population) * 100.000"
   ],
   "cell_type": "markdown",
   "metadata": {}
  },
  {
   "cell_type": "code",
   "execution_count": 616,
   "metadata": {},
   "outputs": [],
   "source": [
    "WHO_suicide['suicides_no'] = ((WHO_suicide['suicides_no'] / WHO_suicide['population']) * 100000).round(1)\n",
    "WHO_suicide = WHO_suicide.drop('population', axis=1)"
   ]
  },
  {
   "cell_type": "code",
   "execution_count": 617,
   "metadata": {},
   "outputs": [
    {
     "output_type": "execute_result",
     "data": {
      "text/plain": [
       "   country  year     sex  suicides_no\n",
       "0  Albania  1987  female          1.9\n",
       "1  Albania  1987    male          3.4\n",
       "2  Albania  1987   total          2.7\n",
       "3  Albania  1988  female          1.6\n",
       "4  Albania  1988    male          2.9"
      ],
      "text/html": "<div>\n<style scoped>\n    .dataframe tbody tr th:only-of-type {\n        vertical-align: middle;\n    }\n\n    .dataframe tbody tr th {\n        vertical-align: top;\n    }\n\n    .dataframe thead th {\n        text-align: right;\n    }\n</style>\n<table border=\"1\" class=\"dataframe\">\n  <thead>\n    <tr style=\"text-align: right;\">\n      <th></th>\n      <th>country</th>\n      <th>year</th>\n      <th>sex</th>\n      <th>suicides_no</th>\n    </tr>\n  </thead>\n  <tbody>\n    <tr>\n      <th>0</th>\n      <td>Albania</td>\n      <td>1987</td>\n      <td>female</td>\n      <td>1.9</td>\n    </tr>\n    <tr>\n      <th>1</th>\n      <td>Albania</td>\n      <td>1987</td>\n      <td>male</td>\n      <td>3.4</td>\n    </tr>\n    <tr>\n      <th>2</th>\n      <td>Albania</td>\n      <td>1987</td>\n      <td>total</td>\n      <td>2.7</td>\n    </tr>\n    <tr>\n      <th>3</th>\n      <td>Albania</td>\n      <td>1988</td>\n      <td>female</td>\n      <td>1.6</td>\n    </tr>\n    <tr>\n      <th>4</th>\n      <td>Albania</td>\n      <td>1988</td>\n      <td>male</td>\n      <td>2.9</td>\n    </tr>\n  </tbody>\n</table>\n</div>"
     },
     "metadata": {},
     "execution_count": 617
    }
   ],
   "source": [
    "WHO_suicide.head()"
   ]
  },
  {
   "source": [
    "# Suicide data - Merging the two datasets\n",
    "\n",
    "We are now ready to combine the data coming from the two datasets\n",
    "\n",
    "In case we have rows with the same country, year and sex, we keep the OECD data (which was already provided in the format of suicides per 100.000 people)"
   ],
   "cell_type": "markdown",
   "metadata": {}
  },
  {
   "cell_type": "code",
   "execution_count": 618,
   "metadata": {},
   "outputs": [
    {
     "output_type": "stream",
     "name": "stdout",
     "text": [
      "Shape of OECD data: (4002, 4)\nShape of WHO data: (3750, 4)\nShape of final suicide dataset: (5187, 4)\n"
     ]
    }
   ],
   "source": [
    "suicide = pd.concat([OECD_suicide, WHO_suicide]).drop_duplicates(subset=['country', 'year', 'sex'], keep='first').sort_values(['country', 'year','sex']).reset_index(drop=True)\n",
    "\n",
    "print('Shape of OECD data: ' + str(OECD_suicide.shape))\n",
    "print('Shape of WHO data: ' + str(WHO_suicide.shape))\n",
    "print('Shape of final suicide dataset: ' + str(suicide.shape))"
   ]
  },
  {
   "cell_type": "code",
   "execution_count": 619,
   "metadata": {},
   "outputs": [
    {
     "output_type": "execute_result",
     "data": {
      "text/plain": [
       "             country  year  suicides_no     sex\n",
       "0            Albania  1987          1.9  female\n",
       "1            Albania  1987          3.4    male\n",
       "2            Albania  1987          2.7   total\n",
       "3            Albania  1988          1.6  female\n",
       "4            Albania  1988          2.9    male\n",
       "...              ...   ...          ...     ...\n",
       "5182  United Kingdom  2015         11.6    male\n",
       "5183  United Kingdom  2015          7.5   total\n",
       "5184  United Kingdom  2016          3.3  female\n",
       "5185  United Kingdom  2016         11.4    male\n",
       "5186  United Kingdom  2016          7.3   total\n",
       "\n",
       "[5187 rows x 4 columns]"
      ],
      "text/html": "<div>\n<style scoped>\n    .dataframe tbody tr th:only-of-type {\n        vertical-align: middle;\n    }\n\n    .dataframe tbody tr th {\n        vertical-align: top;\n    }\n\n    .dataframe thead th {\n        text-align: right;\n    }\n</style>\n<table border=\"1\" class=\"dataframe\">\n  <thead>\n    <tr style=\"text-align: right;\">\n      <th></th>\n      <th>country</th>\n      <th>year</th>\n      <th>suicides_no</th>\n      <th>sex</th>\n    </tr>\n  </thead>\n  <tbody>\n    <tr>\n      <th>0</th>\n      <td>Albania</td>\n      <td>1987</td>\n      <td>1.9</td>\n      <td>female</td>\n    </tr>\n    <tr>\n      <th>1</th>\n      <td>Albania</td>\n      <td>1987</td>\n      <td>3.4</td>\n      <td>male</td>\n    </tr>\n    <tr>\n      <th>2</th>\n      <td>Albania</td>\n      <td>1987</td>\n      <td>2.7</td>\n      <td>total</td>\n    </tr>\n    <tr>\n      <th>3</th>\n      <td>Albania</td>\n      <td>1988</td>\n      <td>1.6</td>\n      <td>female</td>\n    </tr>\n    <tr>\n      <th>4</th>\n      <td>Albania</td>\n      <td>1988</td>\n      <td>2.9</td>\n      <td>male</td>\n    </tr>\n    <tr>\n      <th>...</th>\n      <td>...</td>\n      <td>...</td>\n      <td>...</td>\n      <td>...</td>\n    </tr>\n    <tr>\n      <th>5182</th>\n      <td>United Kingdom</td>\n      <td>2015</td>\n      <td>11.6</td>\n      <td>male</td>\n    </tr>\n    <tr>\n      <th>5183</th>\n      <td>United Kingdom</td>\n      <td>2015</td>\n      <td>7.5</td>\n      <td>total</td>\n    </tr>\n    <tr>\n      <th>5184</th>\n      <td>United Kingdom</td>\n      <td>2016</td>\n      <td>3.3</td>\n      <td>female</td>\n    </tr>\n    <tr>\n      <th>5185</th>\n      <td>United Kingdom</td>\n      <td>2016</td>\n      <td>11.4</td>\n      <td>male</td>\n    </tr>\n    <tr>\n      <th>5186</th>\n      <td>United Kingdom</td>\n      <td>2016</td>\n      <td>7.3</td>\n      <td>total</td>\n    </tr>\n  </tbody>\n</table>\n<p>5187 rows × 4 columns</p>\n</div>"
     },
     "metadata": {},
     "execution_count": 619
    }
   ],
   "source": [
    "suicide"
   ]
  }
 ]
}