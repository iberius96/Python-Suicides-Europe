{
 "metadata": {
  "language_info": {
   "codemirror_mode": {
    "name": "ipython",
    "version": 3
   },
   "file_extension": ".py",
   "mimetype": "text/x-python",
   "name": "python",
   "nbconvert_exporter": "python",
   "pygments_lexer": "ipython3",
   "version": "3.8.3-final"
  },
  "orig_nbformat": 2,
  "kernelspec": {
   "name": "python3",
   "display_name": "Python 3"
  }
 },
 "nbformat": 4,
 "nbformat_minor": 2,
 "cells": [
  {
   "source": [
    "# Python Project - Samuele Ceol \n",
    "A case study on the correlation between the labour market and suicide rates in Europe"
   ],
   "cell_type": "markdown",
   "metadata": {}
  },
  {
   "cell_type": "code",
   "execution_count": 1,
   "metadata": {},
   "outputs": [],
   "source": [
    "import matplotlib.pyplot as plt \n",
    "import numpy as np \n",
    "import pandas as pd\n",
    "import seaborn as sns "
   ]
  },
  {
   "cell_type": "code",
   "execution_count": 2,
   "metadata": {},
   "outputs": [
    {
     "output_type": "execute_result",
     "data": {
      "text/plain": [
       "     LOCATION  TIME  Value Flag Codes\n",
       "0         AUT  1960   14.7        NaN\n",
       "1         AUT  1961   13.7        NaN\n",
       "2         AUT  1962   13.2        NaN\n",
       "3         AUT  1963   13.9        NaN\n",
       "4         AUT  1964   13.6        NaN\n",
       "...       ...   ...    ...        ...\n",
       "1059      SVN  2013    6.9        NaN\n",
       "1060      SVN  2014    5.1        NaN\n",
       "1061      SVN  2015    7.3        NaN\n",
       "1062      SVN  2016    6.2        NaN\n",
       "1063      SVN  2017    6.6        NaN\n",
       "\n",
       "[1064 rows x 4 columns]"
      ],
      "text/html": "<div>\n<style scoped>\n    .dataframe tbody tr th:only-of-type {\n        vertical-align: middle;\n    }\n\n    .dataframe tbody tr th {\n        vertical-align: top;\n    }\n\n    .dataframe thead th {\n        text-align: right;\n    }\n</style>\n<table border=\"1\" class=\"dataframe\">\n  <thead>\n    <tr style=\"text-align: right;\">\n      <th></th>\n      <th>LOCATION</th>\n      <th>TIME</th>\n      <th>Value</th>\n      <th>Flag Codes</th>\n    </tr>\n  </thead>\n  <tbody>\n    <tr>\n      <th>0</th>\n      <td>AUT</td>\n      <td>1960</td>\n      <td>14.7</td>\n      <td>NaN</td>\n    </tr>\n    <tr>\n      <th>1</th>\n      <td>AUT</td>\n      <td>1961</td>\n      <td>13.7</td>\n      <td>NaN</td>\n    </tr>\n    <tr>\n      <th>2</th>\n      <td>AUT</td>\n      <td>1962</td>\n      <td>13.2</td>\n      <td>NaN</td>\n    </tr>\n    <tr>\n      <th>3</th>\n      <td>AUT</td>\n      <td>1963</td>\n      <td>13.9</td>\n      <td>NaN</td>\n    </tr>\n    <tr>\n      <th>4</th>\n      <td>AUT</td>\n      <td>1964</td>\n      <td>13.6</td>\n      <td>NaN</td>\n    </tr>\n    <tr>\n      <th>...</th>\n      <td>...</td>\n      <td>...</td>\n      <td>...</td>\n      <td>...</td>\n    </tr>\n    <tr>\n      <th>1059</th>\n      <td>SVN</td>\n      <td>2013</td>\n      <td>6.9</td>\n      <td>NaN</td>\n    </tr>\n    <tr>\n      <th>1060</th>\n      <td>SVN</td>\n      <td>2014</td>\n      <td>5.1</td>\n      <td>NaN</td>\n    </tr>\n    <tr>\n      <th>1061</th>\n      <td>SVN</td>\n      <td>2015</td>\n      <td>7.3</td>\n      <td>NaN</td>\n    </tr>\n    <tr>\n      <th>1062</th>\n      <td>SVN</td>\n      <td>2016</td>\n      <td>6.2</td>\n      <td>NaN</td>\n    </tr>\n    <tr>\n      <th>1063</th>\n      <td>SVN</td>\n      <td>2017</td>\n      <td>6.6</td>\n      <td>NaN</td>\n    </tr>\n  </tbody>\n</table>\n<p>1064 rows × 4 columns</p>\n</div>"
     },
     "metadata": {},
     "execution_count": 2
    }
   ],
   "source": [
    "suicide_tot = pd.read_csv('./source/OECD_suicides_total.csv')\n",
    "suicide_man = pd.read_csv('./source/OECD_suicides_man.csv')\n",
    "suicide_women = pd.read_csv('./source/OECD_suicides_women.csv')\n",
    "\n",
    "suicide_tot.drop(['INDICATOR', 'SUBJECT', 'MEASURE', 'FREQUENCY'], axis=1)\n",
    "suicide_man.drop(['INDICATOR', 'SUBJECT', 'MEASURE', 'FREQUENCY'], axis=1)\n",
    "suicide_women.drop(['INDICATOR', 'SUBJECT', 'MEASURE', 'FREQUENCY'], axis=1)"
   ]
  },
  {
   "cell_type": "code",
   "execution_count": 3,
   "metadata": {},
   "outputs": [
    {
     "output_type": "error",
     "ename": "NameError",
     "evalue": "name 'df' is not defined",
     "traceback": [
      "\u001b[0;31m---------------------------------------------------------------------------\u001b[0m",
      "\u001b[0;31mNameError\u001b[0m                                 Traceback (most recent call last)",
      "\u001b[0;32m<ipython-input-3-633337079cd0>\u001b[0m in \u001b[0;36m<module>\u001b[0;34m\u001b[0m\n\u001b[0;32m----> 1\u001b[0;31m \u001b[0mdf\u001b[0m\u001b[0;34m.\u001b[0m\u001b[0mshape\u001b[0m\u001b[0;34m\u001b[0m\u001b[0;34m\u001b[0m\u001b[0m\n\u001b[0m",
      "\u001b[0;31mNameError\u001b[0m: name 'df' is not defined"
     ]
    }
   ],
   "source": [
    "suicide_tot.shape\n",
    "suicide_man.shape\n",
    "suicide_women.shape"
   ]
  }
 ]
}