{
 "metadata": {
  "language_info": {
   "codemirror_mode": {
    "name": "ipython",
    "version": 3
   },
   "file_extension": ".py",
   "mimetype": "text/x-python",
   "name": "python",
   "nbconvert_exporter": "python",
   "pygments_lexer": "ipython3",
   "version": "3.8.3-final"
  },
  "orig_nbformat": 2,
  "kernelspec": {
   "name": "python3",
   "display_name": "Python 3",
   "language": "python"
  }
 },
 "nbformat": 4,
 "nbformat_minor": 2,
 "cells": [
  {
   "source": [
    "# Python Project - Samuele Ceol \n",
    "A case study on the correlation between the labour market and suicide rates in Europe\n",
    "\n",
    "TODO - Flag codes?"
   ],
   "cell_type": "markdown",
   "metadata": {}
  },
  {
   "cell_type": "code",
   "execution_count": 525,
   "metadata": {},
   "outputs": [],
   "source": [
    "import matplotlib.pyplot as plt \n",
    "import numpy as np \n",
    "import pandas as pd\n",
    "import seaborn as sns"
   ]
  },
  {
   "cell_type": "code",
   "execution_count": 518,
   "metadata": {},
   "outputs": [],
   "source": [
    "euro_countries = ['Russian Federation','Ukraine','France','Spain','Sweden','Norway','Germany','Finland','Poland','Italy','United Kingdom','Romania','Belarus','Kazakhstan','Greece','Bulgaria','Iceland','Hungary','Portugal','Austria','Czechia','Serbia','Ireland','Lithuania','Latvia','Croatia','Bosnia and Herzegovina','Slovakia','Estonia','Denmark','Switzerland','Netherlands','Moldova','Belgium','Armenia','Albania','North Macedonia','Turkey','Slovenia','Montenegro','Kosovo','Azerbaijan','Cyprus','Luxembourg','Georgia','Andorra','Malta','Liechtenstein','San Marino','Monaco','Vatican City']\n",
    "\n",
    "def OECD_prepare_data(data, value, drop_sex=True):\n",
    "    # Drop unused columns\n",
    "    drop_columns = ['INDICATOR', 'MEASURE', 'FREQUENCY', 'Flag Codes']\n",
    "\n",
    "    if(drop_sex == True):\n",
    "        drop_columns = np.append(drop_columns, 'SUBJECT')\n",
    "\n",
    "    data = data.drop(drop_columns, axis=1)\n",
    "\n",
    "    # Rename columns\n",
    "    if(drop_sex == True):\n",
    "        data.columns = ['country', 'year', value]\n",
    "    else:\n",
    "        data.columns = ['country', 'sex', 'year', value]\n",
    "\n",
    "    # Modify sex column content\n",
    "    if(drop_sex == False):\n",
    "        data['sex'] = data['sex'].replace('TOT', 'total').replace('MEN', 'male').replace('WOMEN', 'female')\n",
    "\n",
    "    return data"
   ]
  },
  {
   "source": [
    "# OECD Data - Description\n",
    "\n",
    "For the OECD we have three distinct files, one for males, one for females and one aggregate (M/F).\n",
    "\n",
    "The dataset contains only data related to european countries.\n",
    "\n",
    "No age group distinction is provided.\n",
    "\n",
    "The column LOCATION identifies the interested country with a unique three letter abbreviation.\n",
    "\n",
    "Suicide rates are indicated as nr of suicides per 100.000 people."
   ],
   "cell_type": "markdown",
   "metadata": {}
  },
  {
   "cell_type": "code",
   "execution_count": 459,
   "metadata": {},
   "outputs": [],
   "source": [
    "suicide_tot = pd.read_csv('./source/OECD_suicides_total.csv')\n",
    "suicide_male = pd.read_csv('./source/OECD_suicides_male.csv')\n",
    "suicide_female = pd.read_csv('./source/OECD_suicides_female.csv')"
   ]
  },
  {
   "cell_type": "code",
   "execution_count": 460,
   "metadata": {},
   "outputs": [
    {
     "output_type": "execute_result",
     "data": {
      "text/plain": [
       "(1955, 8)"
      ]
     },
     "metadata": {},
     "execution_count": 460
    }
   ],
   "source": [
    "suicide_tot.shape"
   ]
  },
  {
   "cell_type": "code",
   "execution_count": 461,
   "metadata": {},
   "outputs": [
    {
     "output_type": "stream",
     "name": "stdout",
     "text": [
      "<class 'pandas.core.frame.DataFrame'>\nRangeIndex: 1955 entries, 0 to 1954\nData columns (total 8 columns):\n #   Column      Non-Null Count  Dtype  \n---  ------      --------------  -----  \n 0   LOCATION    1955 non-null   object \n 1   INDICATOR   1955 non-null   object \n 2   SUBJECT     1955 non-null   object \n 3   MEASURE     1955 non-null   object \n 4   FREQUENCY   1955 non-null   object \n 5   TIME        1955 non-null   int64  \n 6   Value       1955 non-null   float64\n 7   Flag Codes  98 non-null     object \ndtypes: float64(1), int64(1), object(6)\nmemory usage: 122.3+ KB\n"
     ]
    }
   ],
   "source": [
    "suicide_tot.info()"
   ]
  },
  {
   "cell_type": "code",
   "execution_count": 462,
   "metadata": {},
   "outputs": [
    {
     "output_type": "execute_result",
     "data": {
      "text/plain": [
       "  LOCATION INDICATOR SUBJECT    MEASURE FREQUENCY  TIME  Value Flag Codes\n",
       "0      AUS   SUICIDE     TOT  100000PER         A  1960   13.1        NaN\n",
       "1      AUS   SUICIDE     TOT  100000PER         A  1961   14.5        NaN\n",
       "2      AUS   SUICIDE     TOT  100000PER         A  1962   16.9        NaN\n",
       "3      AUS   SUICIDE     TOT  100000PER         A  1963   19.2        NaN\n",
       "4      AUS   SUICIDE     TOT  100000PER         A  1964   17.8        NaN"
      ],
      "text/html": "<div>\n<style scoped>\n    .dataframe tbody tr th:only-of-type {\n        vertical-align: middle;\n    }\n\n    .dataframe tbody tr th {\n        vertical-align: top;\n    }\n\n    .dataframe thead th {\n        text-align: right;\n    }\n</style>\n<table border=\"1\" class=\"dataframe\">\n  <thead>\n    <tr style=\"text-align: right;\">\n      <th></th>\n      <th>LOCATION</th>\n      <th>INDICATOR</th>\n      <th>SUBJECT</th>\n      <th>MEASURE</th>\n      <th>FREQUENCY</th>\n      <th>TIME</th>\n      <th>Value</th>\n      <th>Flag Codes</th>\n    </tr>\n  </thead>\n  <tbody>\n    <tr>\n      <th>0</th>\n      <td>AUS</td>\n      <td>SUICIDE</td>\n      <td>TOT</td>\n      <td>100000PER</td>\n      <td>A</td>\n      <td>1960</td>\n      <td>13.1</td>\n      <td>NaN</td>\n    </tr>\n    <tr>\n      <th>1</th>\n      <td>AUS</td>\n      <td>SUICIDE</td>\n      <td>TOT</td>\n      <td>100000PER</td>\n      <td>A</td>\n      <td>1961</td>\n      <td>14.5</td>\n      <td>NaN</td>\n    </tr>\n    <tr>\n      <th>2</th>\n      <td>AUS</td>\n      <td>SUICIDE</td>\n      <td>TOT</td>\n      <td>100000PER</td>\n      <td>A</td>\n      <td>1962</td>\n      <td>16.9</td>\n      <td>NaN</td>\n    </tr>\n    <tr>\n      <th>3</th>\n      <td>AUS</td>\n      <td>SUICIDE</td>\n      <td>TOT</td>\n      <td>100000PER</td>\n      <td>A</td>\n      <td>1963</td>\n      <td>19.2</td>\n      <td>NaN</td>\n    </tr>\n    <tr>\n      <th>4</th>\n      <td>AUS</td>\n      <td>SUICIDE</td>\n      <td>TOT</td>\n      <td>100000PER</td>\n      <td>A</td>\n      <td>1964</td>\n      <td>17.8</td>\n      <td>NaN</td>\n    </tr>\n  </tbody>\n</table>\n</div>"
     },
     "metadata": {},
     "execution_count": 462
    }
   ],
   "source": [
    "suicide_tot.head()"
   ]
  },
  {
   "source": [
    "# OECD Data - Required actions\n",
    "\n",
    "We would like to join this three different entities into a single dataframe.\n"
   ],
   "cell_type": "markdown",
   "metadata": {}
  },
  {
   "cell_type": "code",
   "execution_count": 463,
   "metadata": {},
   "outputs": [],
   "source": [
    "OECD_suicide = pd.concat([suicide_tot, suicide_male, suicide_female])"
   ]
  },
  {
   "source": [
    "We can then standardize the content of the SUBJECT column\n",
    "\n",
    "We can discard the INDICATOR, SUBJECT, MEASURE and FREQUENCY columns since they are only descriptive and not needed for our analysis\n",
    "\n",
    "We can rename the columns"
   ],
   "cell_type": "markdown",
   "metadata": {}
  },
  {
   "cell_type": "code",
   "execution_count": 466,
   "metadata": {},
   "outputs": [],
   "source": [
    "OECD_suicide = OECD_prepare_data(OECD_suicide, 'suicides_no', False)"
   ]
  },
  {
   "source": [
    "To join the OECD dataset with the one provided by the World Health Organization, we want to change the three letters identifiers to the full country names.\n",
    "To do that, we use the pycountry library."
   ],
   "cell_type": "markdown",
   "metadata": {}
  },
  {
   "cell_type": "code",
   "execution_count": 467,
   "metadata": {},
   "outputs": [],
   "source": [
    "import pycountry\n",
    "\n",
    "OECD_suicide['country'] = OECD_suicide['country'].apply(\n",
    "    lambda x: pycountry.countries.get(alpha_3=x).name \n",
    "    if len(x) == 3 \n",
    "    else pycountry.countries.get(alpha_2=x).name\n",
    ")"
   ]
  },
  {
   "source": [
    "We can now filter out the countries in the dataset that are not in (geographical) Europe\n",
    "\n",
    "TODO - find out if there is a better way to get the list of european countries"
   ],
   "cell_type": "markdown",
   "metadata": {}
  },
  {
   "cell_type": "code",
   "execution_count": 468,
   "metadata": {},
   "outputs": [
    {
     "output_type": "stream",
     "name": "stdout",
     "text": [
      "Initial nr of countries: \n41\nFinal nr of countries: \n28\nEuropean countries not present in this dataset: \n['Ukraine', 'Romania', 'Belarus', 'Kazakhstan', 'Bulgaria', 'Serbia', 'Croatia', 'Bosnia and Herzegovina', 'Moldova', 'Armenia', 'Albania', 'North Macedonia', 'Montenegro', 'Kosovo', 'Azerbaijan', 'Cyprus', 'Georgia', 'Andorra', 'Malta', 'Liechtenstein', 'San Marino', 'Monaco', 'Vatican City']\n"
     ]
    }
   ],
   "source": [
    "print('Initial nr of countries: ')\n",
    "print(OECD_suicide['country'].nunique())\n",
    "\n",
    "OECD_suicide = OECD_suicide[OECD_suicide['country'].isin(euro_countries)]\n",
    "\n",
    "print('Final nr of countries: ')\n",
    "print(OECD_suicide['country'].nunique())\n",
    "\n",
    "#List of european countries that are not present in this dataset\n",
    "print('European countries not present in this dataset: ')\n",
    "print([x for x in euro_countries if x not in OECD_suicide['country'].unique().tolist()])"
   ]
  },
  {
   "source": [
    "We can finally rename the remaining columns and see how the dataframe looks like.\n",
    "\n",
    "TODO - Maintain the groupby even though we don't have duplicates"
   ],
   "cell_type": "markdown",
   "metadata": {}
  },
  {
   "cell_type": "code",
   "execution_count": 469,
   "metadata": {},
   "outputs": [
    {
     "output_type": "execute_result",
     "data": {
      "text/plain": [
       "    country    sex  year  suicides_no\n",
       "57  Austria  total  1960         24.2\n",
       "58  Austria  total  1961         23.2\n",
       "59  Austria  total  1962         23.8\n",
       "60  Austria  total  1963         23.0\n",
       "61  Austria  total  1964         24.1"
      ],
      "text/html": "<div>\n<style scoped>\n    .dataframe tbody tr th:only-of-type {\n        vertical-align: middle;\n    }\n\n    .dataframe tbody tr th {\n        vertical-align: top;\n    }\n\n    .dataframe thead th {\n        text-align: right;\n    }\n</style>\n<table border=\"1\" class=\"dataframe\">\n  <thead>\n    <tr style=\"text-align: right;\">\n      <th></th>\n      <th>country</th>\n      <th>sex</th>\n      <th>year</th>\n      <th>suicides_no</th>\n    </tr>\n  </thead>\n  <tbody>\n    <tr>\n      <th>57</th>\n      <td>Austria</td>\n      <td>total</td>\n      <td>1960</td>\n      <td>24.2</td>\n    </tr>\n    <tr>\n      <th>58</th>\n      <td>Austria</td>\n      <td>total</td>\n      <td>1961</td>\n      <td>23.2</td>\n    </tr>\n    <tr>\n      <th>59</th>\n      <td>Austria</td>\n      <td>total</td>\n      <td>1962</td>\n      <td>23.8</td>\n    </tr>\n    <tr>\n      <th>60</th>\n      <td>Austria</td>\n      <td>total</td>\n      <td>1963</td>\n      <td>23.0</td>\n    </tr>\n    <tr>\n      <th>61</th>\n      <td>Austria</td>\n      <td>total</td>\n      <td>1964</td>\n      <td>24.1</td>\n    </tr>\n  </tbody>\n</table>\n</div>"
     },
     "metadata": {},
     "execution_count": 469
    }
   ],
   "source": [
    "OECD_suicide.head()"
   ]
  },
  {
   "cell_type": "code",
   "execution_count": 470,
   "metadata": {},
   "outputs": [],
   "source": [
    "OECD_suicide = OECD_suicide.sort_values(['country', 'year','sex']).reset_index(drop = True)"
   ]
  },
  {
   "cell_type": "code",
   "execution_count": 471,
   "metadata": {},
   "outputs": [
    {
     "output_type": "execute_result",
     "data": {
      "text/plain": [
       "   country     sex  year  suicides_no\n",
       "0  Austria  female  1960         14.7\n",
       "1  Austria    male  1960         36.6\n",
       "2  Austria   total  1960         24.2\n",
       "3  Austria  female  1961         13.7\n",
       "4  Austria    male  1961         35.5"
      ],
      "text/html": "<div>\n<style scoped>\n    .dataframe tbody tr th:only-of-type {\n        vertical-align: middle;\n    }\n\n    .dataframe tbody tr th {\n        vertical-align: top;\n    }\n\n    .dataframe thead th {\n        text-align: right;\n    }\n</style>\n<table border=\"1\" class=\"dataframe\">\n  <thead>\n    <tr style=\"text-align: right;\">\n      <th></th>\n      <th>country</th>\n      <th>sex</th>\n      <th>year</th>\n      <th>suicides_no</th>\n    </tr>\n  </thead>\n  <tbody>\n    <tr>\n      <th>0</th>\n      <td>Austria</td>\n      <td>female</td>\n      <td>1960</td>\n      <td>14.7</td>\n    </tr>\n    <tr>\n      <th>1</th>\n      <td>Austria</td>\n      <td>male</td>\n      <td>1960</td>\n      <td>36.6</td>\n    </tr>\n    <tr>\n      <th>2</th>\n      <td>Austria</td>\n      <td>total</td>\n      <td>1960</td>\n      <td>24.2</td>\n    </tr>\n    <tr>\n      <th>3</th>\n      <td>Austria</td>\n      <td>female</td>\n      <td>1961</td>\n      <td>13.7</td>\n    </tr>\n    <tr>\n      <th>4</th>\n      <td>Austria</td>\n      <td>male</td>\n      <td>1961</td>\n      <td>35.5</td>\n    </tr>\n  </tbody>\n</table>\n</div>"
     },
     "metadata": {},
     "execution_count": 471
    }
   ],
   "source": [
    "OECD_suicide.head()"
   ]
  },
  {
   "cell_type": "code",
   "execution_count": 472,
   "metadata": {},
   "outputs": [
    {
     "output_type": "execute_result",
     "data": {
      "text/plain": [
       "28"
      ]
     },
     "metadata": {},
     "execution_count": 472
    }
   ],
   "source": [
    "OECD_suicide['country'].nunique()"
   ]
  },
  {
   "source": [
    "# WHO Data - Description\n",
    "\n",
    "For the data provided by the World Health Organization we have a single file containing data for males and females with a further division by age group.\n",
    "\n",
    "Suicide values are stored as totals unlike the previous dataframe where they were stored in relation to nr of suicides per 100.000.\n",
    "\n",
    "The dataframe also contains information related to the total population of the country in the given year.\n"
   ],
   "cell_type": "markdown",
   "metadata": {}
  },
  {
   "cell_type": "code",
   "execution_count": 473,
   "metadata": {},
   "outputs": [],
   "source": [
    "WHO_suicide = pd.read_csv('./source/WHO_suicides_aggregate.csv')"
   ]
  },
  {
   "cell_type": "code",
   "execution_count": 474,
   "metadata": {},
   "outputs": [
    {
     "output_type": "execute_result",
     "data": {
      "text/plain": [
       "(43776, 6)"
      ]
     },
     "metadata": {},
     "execution_count": 474
    }
   ],
   "source": [
    "WHO_suicide.shape"
   ]
  },
  {
   "cell_type": "code",
   "execution_count": 475,
   "metadata": {},
   "outputs": [
    {
     "output_type": "stream",
     "name": "stdout",
     "text": [
      "<class 'pandas.core.frame.DataFrame'>\nRangeIndex: 43776 entries, 0 to 43775\nData columns (total 6 columns):\n #   Column       Non-Null Count  Dtype  \n---  ------       --------------  -----  \n 0   country      43776 non-null  object \n 1   year         43776 non-null  int64  \n 2   sex          43776 non-null  object \n 3   age          43776 non-null  object \n 4   suicides_no  41520 non-null  float64\n 5   population   38316 non-null  float64\ndtypes: float64(2), int64(1), object(3)\nmemory usage: 2.0+ MB\n"
     ]
    }
   ],
   "source": [
    "WHO_suicide.info()"
   ]
  },
  {
   "cell_type": "code",
   "execution_count": 476,
   "metadata": {},
   "outputs": [
    {
     "output_type": "execute_result",
     "data": {
      "text/plain": [
       "   country  year     sex          age  suicides_no  population\n",
       "0  Albania  1985  female  15-24 years          NaN    277900.0\n",
       "1  Albania  1985  female  25-34 years          NaN    246800.0\n",
       "2  Albania  1985  female  35-54 years          NaN    267500.0\n",
       "3  Albania  1985  female   5-14 years          NaN    298300.0\n",
       "4  Albania  1985  female  55-74 years          NaN    138700.0"
      ],
      "text/html": "<div>\n<style scoped>\n    .dataframe tbody tr th:only-of-type {\n        vertical-align: middle;\n    }\n\n    .dataframe tbody tr th {\n        vertical-align: top;\n    }\n\n    .dataframe thead th {\n        text-align: right;\n    }\n</style>\n<table border=\"1\" class=\"dataframe\">\n  <thead>\n    <tr style=\"text-align: right;\">\n      <th></th>\n      <th>country</th>\n      <th>year</th>\n      <th>sex</th>\n      <th>age</th>\n      <th>suicides_no</th>\n      <th>population</th>\n    </tr>\n  </thead>\n  <tbody>\n    <tr>\n      <th>0</th>\n      <td>Albania</td>\n      <td>1985</td>\n      <td>female</td>\n      <td>15-24 years</td>\n      <td>NaN</td>\n      <td>277900.0</td>\n    </tr>\n    <tr>\n      <th>1</th>\n      <td>Albania</td>\n      <td>1985</td>\n      <td>female</td>\n      <td>25-34 years</td>\n      <td>NaN</td>\n      <td>246800.0</td>\n    </tr>\n    <tr>\n      <th>2</th>\n      <td>Albania</td>\n      <td>1985</td>\n      <td>female</td>\n      <td>35-54 years</td>\n      <td>NaN</td>\n      <td>267500.0</td>\n    </tr>\n    <tr>\n      <th>3</th>\n      <td>Albania</td>\n      <td>1985</td>\n      <td>female</td>\n      <td>5-14 years</td>\n      <td>NaN</td>\n      <td>298300.0</td>\n    </tr>\n    <tr>\n      <th>4</th>\n      <td>Albania</td>\n      <td>1985</td>\n      <td>female</td>\n      <td>55-74 years</td>\n      <td>NaN</td>\n      <td>138700.0</td>\n    </tr>\n  </tbody>\n</table>\n</div>"
     },
     "metadata": {},
     "execution_count": 476
    }
   ],
   "source": [
    "WHO_suicide.head()"
   ]
  },
  {
   "source": [
    "# WHO Data - Required actions\n",
    "\n",
    "Just like for the OECD data, we filter out the countries that are not in Europe."
   ],
   "cell_type": "markdown",
   "metadata": {}
  },
  {
   "cell_type": "code",
   "execution_count": 477,
   "metadata": {},
   "outputs": [
    {
     "output_type": "stream",
     "name": "stdout",
     "text": [
      "Initial nr of countries: \n141\nFinal nr of countries: \n44\nEuropean countries not present in this dataset: \n['Czechia', 'Moldova', 'North Macedonia', 'Kosovo', 'Andorra', 'Liechtenstein', 'Vatican City']\n"
     ]
    }
   ],
   "source": [
    "print('Initial nr of countries: ')\n",
    "print(WHO_suicide['country'].nunique())\n",
    "\n",
    "WHO_suicide = WHO_suicide[WHO_suicide['country'].isin(euro_countries)]\n",
    "\n",
    "print('Final nr of countries: ')\n",
    "print(WHO_suicide['country'].nunique())\n",
    "\n",
    "#List of european countries that are not present in this dataset\n",
    "print('European countries not present in this dataset: ')\n",
    "print([x for x in euro_countries if x not in WHO_suicide['country'].unique().tolist()])"
   ]
  },
  {
   "source": [
    "We can also drop the rows in which suicide data is not present."
   ],
   "cell_type": "markdown",
   "metadata": {}
  },
  {
   "cell_type": "code",
   "execution_count": 478,
   "metadata": {},
   "outputs": [],
   "source": [
    "WHO_suicide = WHO_suicide[WHO_suicide['suicides_no'].notna()]"
   ]
  },
  {
   "source": [
    "For our analysis, we are not considering the differences between age groups.\n",
    "\n",
    "Because of this reason, we can drop the 'age' column and sum population and suicide numbers.\n"
   ],
   "cell_type": "markdown",
   "metadata": {}
  },
  {
   "cell_type": "code",
   "execution_count": 479,
   "metadata": {},
   "outputs": [],
   "source": [
    "WHO_suicide = WHO_suicide.drop('age', axis=1).groupby(['country', 'year', 'sex']).sum().unstack()"
   ]
  },
  {
   "source": [
    "Since the dataframe only has a division between males and females, we want to add a new category for the total values which contains the sum for both nr of suicides between males and females and value of the total population.\n",
    "\n",
    "To facilitate this process, we compute the totals for suicides numbers and population in two different variables and then merge them.\n",
    "\n",
    "We then flatten the hierarchical index\n"
   ],
   "cell_type": "markdown",
   "metadata": {}
  },
  {
   "cell_type": "code",
   "execution_count": 480,
   "metadata": {},
   "outputs": [],
   "source": [
    "WHO_suicide_mf      = WHO_suicide['suicides_no'].assign(total=WHO_suicide['suicides_no'].sum(1)).stack(level='sex')\n",
    "WHO_population_mf   = WHO_suicide['population'].assign(total=WHO_suicide['population'].sum(1)).stack(level='sex')\n",
    "\n",
    "WHO_suicide = pd.DataFrame(\n",
    "    pd.concat(\n",
    "        [WHO_suicide_mf, WHO_population_mf], \n",
    "        axis=1\n",
    "    ).to_records()).rename(columns = {'0':'suicides_no', '1':'population'}\n",
    ") "
   ]
  },
  {
   "source": [
    "Before converting the suicide nr to suicide rates, we should first address the few rows with missing population data.\n",
    "\n",
    "My initial idea was to use The World Bank census data in order to fill in the gaps in the poulation numbers for the WHO dataset\n",
    "\n",
    "The following (now commented) code, was used to drop the columns were not needed, pivot longer the year columns and filter out the non european countries."
   ],
   "cell_type": "markdown",
   "metadata": {}
  },
  {
   "cell_type": "code",
   "execution_count": 481,
   "metadata": {},
   "outputs": [
    {
     "output_type": "execute_result",
     "data": {
      "text/plain": [
       "\"\\ncensus_tot      = pd.read_csv('./source/census_total.csv').drop(['Country Code', 'Indicator Code'], axis=1)\\ncensus_male     = pd.read_csv('./source/census_male.csv').drop(['Country Code', 'Indicator Code'], axis=1)\\ncensus_female   = pd.read_csv('./source/census_female.csv').drop(['Country Code', 'Indicator Code'], axis=1)\\n\\ncensus = pd.concat([census_tot, census_male, census_female])\\n\\ncensus = pd.melt(\\n    census, \\n    id_vars = ['Country Name', 'Indicator Name'], \\n    value_vars = [str(i).zfill(4) for i in range(1960,2020)], \\n    var_name='year', \\n    value_name='population'\\n).sort_values(\\n    ['Country Name', 'year', 'Indicator Name']\\n)\\n\\ncensus = census[census['Country Name'].isin(euro_countries)]\\ncensus\\n\""
      ]
     },
     "metadata": {},
     "execution_count": 481
    }
   ],
   "source": [
    "'''\n",
    "census_tot      = pd.read_csv('./source/census_total.csv').drop(['Country Code', 'Indicator Code'], axis=1)\n",
    "census_male     = pd.read_csv('./source/census_male.csv').drop(['Country Code', 'Indicator Code'], axis=1)\n",
    "census_female   = pd.read_csv('./source/census_female.csv').drop(['Country Code', 'Indicator Code'], axis=1)\n",
    "\n",
    "census = pd.concat([census_tot, census_male, census_female])\n",
    "\n",
    "census = pd.melt(\n",
    "    census, \n",
    "    id_vars = ['Country Name', 'Indicator Name'], \n",
    "    value_vars = [str(i).zfill(4) for i in range(1960,2020)], \n",
    "    var_name='year', \n",
    "    value_name='population'\n",
    ").sort_values(\n",
    "    ['Country Name', 'year', 'Indicator Name']\n",
    ")\n",
    "\n",
    "census = census[census['Country Name'].isin(euro_countries)]\n",
    "census\n",
    "'''"
   ]
  },
  {
   "source": [
    "This solution was not implemented because I later realized that:\n",
    "\n",
    "    - Only 9 rows, out of the total 3759, were missing this data\n",
    "    - The two interested countries (Monaco and San Marino) were missing this data also in the other datasets\n",
    "\n",
    "Given the small amount of interested rows, we can drop them without compromising the value of our data."
   ],
   "cell_type": "markdown",
   "metadata": {}
  },
  {
   "cell_type": "code",
   "execution_count": 482,
   "metadata": {},
   "outputs": [],
   "source": [
    "WHO_suicide = WHO_suicide[WHO_suicide['population'] != 0]"
   ]
  },
  {
   "source": [
    "We can now convert the suicide values to suicides per 100.000 and then drop the population column.\n",
    "\n",
    "Suicide rate = (Nr of suicides / population) * 100.000"
   ],
   "cell_type": "markdown",
   "metadata": {}
  },
  {
   "cell_type": "code",
   "execution_count": 483,
   "metadata": {},
   "outputs": [],
   "source": [
    "WHO_suicide['suicides_no'] = ((WHO_suicide['suicides_no'] / WHO_suicide['population']) * 100000).round(1)\n",
    "WHO_suicide = WHO_suicide.drop('population', axis=1)"
   ]
  },
  {
   "cell_type": "code",
   "execution_count": 484,
   "metadata": {},
   "outputs": [
    {
     "output_type": "execute_result",
     "data": {
      "text/plain": [
       "   country  year     sex  suicides_no\n",
       "0  Albania  1987  female          1.9\n",
       "1  Albania  1987    male          3.4\n",
       "2  Albania  1987   total          2.7\n",
       "3  Albania  1988  female          1.6\n",
       "4  Albania  1988    male          2.9"
      ],
      "text/html": "<div>\n<style scoped>\n    .dataframe tbody tr th:only-of-type {\n        vertical-align: middle;\n    }\n\n    .dataframe tbody tr th {\n        vertical-align: top;\n    }\n\n    .dataframe thead th {\n        text-align: right;\n    }\n</style>\n<table border=\"1\" class=\"dataframe\">\n  <thead>\n    <tr style=\"text-align: right;\">\n      <th></th>\n      <th>country</th>\n      <th>year</th>\n      <th>sex</th>\n      <th>suicides_no</th>\n    </tr>\n  </thead>\n  <tbody>\n    <tr>\n      <th>0</th>\n      <td>Albania</td>\n      <td>1987</td>\n      <td>female</td>\n      <td>1.9</td>\n    </tr>\n    <tr>\n      <th>1</th>\n      <td>Albania</td>\n      <td>1987</td>\n      <td>male</td>\n      <td>3.4</td>\n    </tr>\n    <tr>\n      <th>2</th>\n      <td>Albania</td>\n      <td>1987</td>\n      <td>total</td>\n      <td>2.7</td>\n    </tr>\n    <tr>\n      <th>3</th>\n      <td>Albania</td>\n      <td>1988</td>\n      <td>female</td>\n      <td>1.6</td>\n    </tr>\n    <tr>\n      <th>4</th>\n      <td>Albania</td>\n      <td>1988</td>\n      <td>male</td>\n      <td>2.9</td>\n    </tr>\n  </tbody>\n</table>\n</div>"
     },
     "metadata": {},
     "execution_count": 484
    }
   ],
   "source": [
    "WHO_suicide.head()"
   ]
  },
  {
   "source": [
    "# Suicide data - Merging the two datasets\n",
    "\n",
    "We are now ready to combine the data coming from the two datasets\n",
    "\n",
    "In case we have rows with the same country, year and sex, we keep the OECD data (which was already provided in the format of suicides per 100.000 people)"
   ],
   "cell_type": "markdown",
   "metadata": {}
  },
  {
   "cell_type": "code",
   "execution_count": 485,
   "metadata": {},
   "outputs": [
    {
     "output_type": "stream",
     "name": "stdout",
     "text": [
      "Shape of OECD data: (4002, 4)\nShape of WHO data: (3750, 4)\nShape of final suicide dataset: (5187, 4)\n"
     ]
    }
   ],
   "source": [
    "suicide = pd.concat([OECD_suicide, WHO_suicide]).drop_duplicates(subset=['country', 'year', 'sex'], keep='first').sort_values(['country', 'year','sex']).reset_index(drop=True)\n",
    "\n",
    "print('Shape of OECD data: ' + str(OECD_suicide.shape))\n",
    "print('Shape of WHO data: ' + str(WHO_suicide.shape))\n",
    "print('Shape of final suicide dataset: ' + str(suicide.shape))"
   ]
  },
  {
   "cell_type": "code",
   "execution_count": 486,
   "metadata": {},
   "outputs": [
    {
     "output_type": "execute_result",
     "data": {
      "text/plain": [
       "             country     sex  year  suicides_no\n",
       "0            Albania  female  1987          1.9\n",
       "1            Albania    male  1987          3.4\n",
       "2            Albania   total  1987          2.7\n",
       "3            Albania  female  1988          1.6\n",
       "4            Albania    male  1988          2.9\n",
       "...              ...     ...   ...          ...\n",
       "5182  United Kingdom    male  2015         11.6\n",
       "5183  United Kingdom   total  2015          7.5\n",
       "5184  United Kingdom  female  2016          3.3\n",
       "5185  United Kingdom    male  2016         11.4\n",
       "5186  United Kingdom   total  2016          7.3\n",
       "\n",
       "[5187 rows x 4 columns]"
      ],
      "text/html": "<div>\n<style scoped>\n    .dataframe tbody tr th:only-of-type {\n        vertical-align: middle;\n    }\n\n    .dataframe tbody tr th {\n        vertical-align: top;\n    }\n\n    .dataframe thead th {\n        text-align: right;\n    }\n</style>\n<table border=\"1\" class=\"dataframe\">\n  <thead>\n    <tr style=\"text-align: right;\">\n      <th></th>\n      <th>country</th>\n      <th>sex</th>\n      <th>year</th>\n      <th>suicides_no</th>\n    </tr>\n  </thead>\n  <tbody>\n    <tr>\n      <th>0</th>\n      <td>Albania</td>\n      <td>female</td>\n      <td>1987</td>\n      <td>1.9</td>\n    </tr>\n    <tr>\n      <th>1</th>\n      <td>Albania</td>\n      <td>male</td>\n      <td>1987</td>\n      <td>3.4</td>\n    </tr>\n    <tr>\n      <th>2</th>\n      <td>Albania</td>\n      <td>total</td>\n      <td>1987</td>\n      <td>2.7</td>\n    </tr>\n    <tr>\n      <th>3</th>\n      <td>Albania</td>\n      <td>female</td>\n      <td>1988</td>\n      <td>1.6</td>\n    </tr>\n    <tr>\n      <th>4</th>\n      <td>Albania</td>\n      <td>male</td>\n      <td>1988</td>\n      <td>2.9</td>\n    </tr>\n    <tr>\n      <th>...</th>\n      <td>...</td>\n      <td>...</td>\n      <td>...</td>\n      <td>...</td>\n    </tr>\n    <tr>\n      <th>5182</th>\n      <td>United Kingdom</td>\n      <td>male</td>\n      <td>2015</td>\n      <td>11.6</td>\n    </tr>\n    <tr>\n      <th>5183</th>\n      <td>United Kingdom</td>\n      <td>total</td>\n      <td>2015</td>\n      <td>7.5</td>\n    </tr>\n    <tr>\n      <th>5184</th>\n      <td>United Kingdom</td>\n      <td>female</td>\n      <td>2016</td>\n      <td>3.3</td>\n    </tr>\n    <tr>\n      <th>5185</th>\n      <td>United Kingdom</td>\n      <td>male</td>\n      <td>2016</td>\n      <td>11.4</td>\n    </tr>\n    <tr>\n      <th>5186</th>\n      <td>United Kingdom</td>\n      <td>total</td>\n      <td>2016</td>\n      <td>7.3</td>\n    </tr>\n  </tbody>\n</table>\n<p>5187 rows × 4 columns</p>\n</div>"
     },
     "metadata": {},
     "execution_count": 486
    }
   ],
   "source": [
    "suicide"
   ]
  },
  {
   "source": [
    "# OECD Labour Market Data - Description\n",
    "\n",
    "Unemployment rates (m/f)\n",
    "\n",
    "Long-term Unemployment rates (total - % of Unemployment - unemployed for 12 months or more - 1968-2019)\n",
    "\n",
    "Labour compensation per hour worker (tot - 1970-2019)\n",
    "\n",
    "Hours worked - (tot - 1950-2019)\n",
    "\n",
    "Tax wedge (tot - 2000-2019)\n",
    "\n",
    "Pension spending (public/private - on % of GDP - 1980-2019)\n",
    "\n",
    "Public Unemployment spending (total - on % of GDP - 1980-2019)"
   ],
   "cell_type": "markdown",
   "metadata": {}
  },
  {
   "cell_type": "code",
   "execution_count": 487,
   "metadata": {},
   "outputs": [],
   "source": [
    "unemployment_rates = OECD_prepare_data(pd.read_csv('./source/labour/OECD_unemployment.csv'), 'unemployment_rates', False)\n",
    "long_term_un = OECD_prepare_data(pd.read_csv('./source/labour/OECD_longTermUnemployment.csv'), 'long_term_unemployment')\n",
    "compensation = OECD_prepare_data(pd.read_csv('./source/labour/OECD_compensation.csv'), 'compensation')\n",
    "hours = OECD_prepare_data(pd.read_csv('./source/labour/OECD_hours.csv'), 'hours_worked')\n",
    "tax_wedge = OECD_prepare_data(pd.read_csv('./source/labour/OECD_taxWedge.csv'), 'tax_wedge')\n",
    "pension = OECD_prepare_data(pd.read_csv('./source/labour/OECD_pension.csv'), 'pension_spending')\n",
    "unempl_spending = OECD_prepare_data(pd.read_csv('./source/labour/OECD_unemploymentSPending.csv'), 'unemployment_spending')"
   ]
  },
  {
   "source": [
    "TODO - See what we lose on merge based on shape"
   ],
   "cell_type": "markdown",
   "metadata": {}
  },
  {
   "cell_type": "code",
   "execution_count": 488,
   "metadata": {},
   "outputs": [],
   "source": [
    "join_columns = ['country', 'year']\n",
    "\n",
    "labour = unemployment_rates.merge(\n",
    "    long_term_un,\n",
    "    on = join_columns\n",
    ").merge(\n",
    "    compensation,\n",
    "    on = join_columns\n",
    ").merge(\n",
    "    hours,\n",
    "    on = join_columns\n",
    ").merge(\n",
    "    tax_wedge,\n",
    "    on = join_columns\n",
    ").merge(\n",
    "    unempl_spending,\n",
    "    on = join_columns\n",
    ")"
   ]
  },
  {
   "cell_type": "code",
   "execution_count": 489,
   "metadata": {},
   "outputs": [],
   "source": [
    "labour['country'] = labour['country'].apply(\n",
    "    lambda x: pycountry.countries.get(alpha_3=x).name \n",
    "    if len(x) == 3 \n",
    "    else pycountry.countries.get(alpha_2=x).name\n",
    ")"
   ]
  },
  {
   "cell_type": "code",
   "execution_count": 490,
   "metadata": {},
   "outputs": [],
   "source": [
    "labour = labour[labour['country'].isin(euro_countries)]"
   ]
  },
  {
   "cell_type": "code",
   "execution_count": 496,
   "metadata": {},
   "outputs": [
    {
     "output_type": "execute_result",
     "data": {
      "text/plain": [
       "             country     sex  year  suicides_no  unemployment_rates  \\\n",
       "0            Austria  female  2000          9.7            3.841161   \n",
       "1            Austria    male  2000         31.9            3.294462   \n",
       "2            Austria   total  2000         19.4            3.933333   \n",
       "3            Austria  female  2001          9.0            3.801925   \n",
       "4            Austria    male  2001         29.2            3.425509   \n",
       "...              ...     ...   ...          ...                 ...   \n",
       "1233  United Kingdom    male  2015         11.6            5.455402   \n",
       "1234  United Kingdom   total  2015          7.5            5.325000   \n",
       "1235  United Kingdom  female  2016          3.3            4.680531   \n",
       "1236  United Kingdom    male  2016         11.4            4.923618   \n",
       "1237  United Kingdom   total  2016          7.3            4.825000   \n",
       "\n",
       "      long_term_unemployment  compensation  hours_worked  tax_wedge  \\\n",
       "0                  25.837572      2.617126        1675.0  47.312048   \n",
       "1                  25.837572      2.617126        1675.0  47.312048   \n",
       "2                  25.837572      2.617126        1675.0  47.312048   \n",
       "3                  23.331006      1.991982        1663.0  46.910884   \n",
       "4                  23.331006      1.991982        1663.0  46.910884   \n",
       "...                      ...           ...           ...        ...   \n",
       "1233               30.668295      1.734254        1527.0  30.814131   \n",
       "1234               30.668295      1.734254        1527.0  30.814131   \n",
       "1235               27.188206      2.158352        1541.0  30.913017   \n",
       "1236               27.188206      2.158352        1541.0  30.913017   \n",
       "1237               27.188206      2.158352        1541.0  30.913017   \n",
       "\n",
       "      unemployment_spending  \n",
       "0                     0.922  \n",
       "1                     0.922  \n",
       "2                     0.922  \n",
       "3                     0.909  \n",
       "4                     0.909  \n",
       "...                     ...  \n",
       "1233                  0.171  \n",
       "1234                  0.171  \n",
       "1235                  0.157  \n",
       "1236                  0.157  \n",
       "1237                  0.157  \n",
       "\n",
       "[1238 rows x 10 columns]"
      ],
      "text/html": "<div>\n<style scoped>\n    .dataframe tbody tr th:only-of-type {\n        vertical-align: middle;\n    }\n\n    .dataframe tbody tr th {\n        vertical-align: top;\n    }\n\n    .dataframe thead th {\n        text-align: right;\n    }\n</style>\n<table border=\"1\" class=\"dataframe\">\n  <thead>\n    <tr style=\"text-align: right;\">\n      <th></th>\n      <th>country</th>\n      <th>sex</th>\n      <th>year</th>\n      <th>suicides_no</th>\n      <th>unemployment_rates</th>\n      <th>long_term_unemployment</th>\n      <th>compensation</th>\n      <th>hours_worked</th>\n      <th>tax_wedge</th>\n      <th>unemployment_spending</th>\n    </tr>\n  </thead>\n  <tbody>\n    <tr>\n      <th>0</th>\n      <td>Austria</td>\n      <td>female</td>\n      <td>2000</td>\n      <td>9.7</td>\n      <td>3.841161</td>\n      <td>25.837572</td>\n      <td>2.617126</td>\n      <td>1675.0</td>\n      <td>47.312048</td>\n      <td>0.922</td>\n    </tr>\n    <tr>\n      <th>1</th>\n      <td>Austria</td>\n      <td>male</td>\n      <td>2000</td>\n      <td>31.9</td>\n      <td>3.294462</td>\n      <td>25.837572</td>\n      <td>2.617126</td>\n      <td>1675.0</td>\n      <td>47.312048</td>\n      <td>0.922</td>\n    </tr>\n    <tr>\n      <th>2</th>\n      <td>Austria</td>\n      <td>total</td>\n      <td>2000</td>\n      <td>19.4</td>\n      <td>3.933333</td>\n      <td>25.837572</td>\n      <td>2.617126</td>\n      <td>1675.0</td>\n      <td>47.312048</td>\n      <td>0.922</td>\n    </tr>\n    <tr>\n      <th>3</th>\n      <td>Austria</td>\n      <td>female</td>\n      <td>2001</td>\n      <td>9.0</td>\n      <td>3.801925</td>\n      <td>23.331006</td>\n      <td>1.991982</td>\n      <td>1663.0</td>\n      <td>46.910884</td>\n      <td>0.909</td>\n    </tr>\n    <tr>\n      <th>4</th>\n      <td>Austria</td>\n      <td>male</td>\n      <td>2001</td>\n      <td>29.2</td>\n      <td>3.425509</td>\n      <td>23.331006</td>\n      <td>1.991982</td>\n      <td>1663.0</td>\n      <td>46.910884</td>\n      <td>0.909</td>\n    </tr>\n    <tr>\n      <th>...</th>\n      <td>...</td>\n      <td>...</td>\n      <td>...</td>\n      <td>...</td>\n      <td>...</td>\n      <td>...</td>\n      <td>...</td>\n      <td>...</td>\n      <td>...</td>\n      <td>...</td>\n    </tr>\n    <tr>\n      <th>1233</th>\n      <td>United Kingdom</td>\n      <td>male</td>\n      <td>2015</td>\n      <td>11.6</td>\n      <td>5.455402</td>\n      <td>30.668295</td>\n      <td>1.734254</td>\n      <td>1527.0</td>\n      <td>30.814131</td>\n      <td>0.171</td>\n    </tr>\n    <tr>\n      <th>1234</th>\n      <td>United Kingdom</td>\n      <td>total</td>\n      <td>2015</td>\n      <td>7.5</td>\n      <td>5.325000</td>\n      <td>30.668295</td>\n      <td>1.734254</td>\n      <td>1527.0</td>\n      <td>30.814131</td>\n      <td>0.171</td>\n    </tr>\n    <tr>\n      <th>1235</th>\n      <td>United Kingdom</td>\n      <td>female</td>\n      <td>2016</td>\n      <td>3.3</td>\n      <td>4.680531</td>\n      <td>27.188206</td>\n      <td>2.158352</td>\n      <td>1541.0</td>\n      <td>30.913017</td>\n      <td>0.157</td>\n    </tr>\n    <tr>\n      <th>1236</th>\n      <td>United Kingdom</td>\n      <td>male</td>\n      <td>2016</td>\n      <td>11.4</td>\n      <td>4.923618</td>\n      <td>27.188206</td>\n      <td>2.158352</td>\n      <td>1541.0</td>\n      <td>30.913017</td>\n      <td>0.157</td>\n    </tr>\n    <tr>\n      <th>1237</th>\n      <td>United Kingdom</td>\n      <td>total</td>\n      <td>2016</td>\n      <td>7.3</td>\n      <td>4.825000</td>\n      <td>27.188206</td>\n      <td>2.158352</td>\n      <td>1541.0</td>\n      <td>30.913017</td>\n      <td>0.157</td>\n    </tr>\n  </tbody>\n</table>\n<p>1238 rows × 10 columns</p>\n</div>"
     },
     "metadata": {},
     "execution_count": 496
    }
   ],
   "source": [
    "merged_data = suicide.merge(\n",
    "    labour,\n",
    "    on = ['country', 'sex', 'year']\n",
    ")\n",
    "\n",
    "final"
   ]
  },
  {
   "cell_type": "code",
   "execution_count": 500,
   "metadata": {},
   "outputs": [
    {
     "output_type": "execute_result",
     "data": {
      "text/plain": [
       "unemployment_rates      long_term_unemployment    0.550195\n",
       "long_term_unemployment  hours_worked              0.547884\n",
       "unemployment_rates      hours_worked              0.429486\n",
       "tax_wedge               unemployment_spending     0.334735\n",
       "suicides_no             compensation              0.332449\n",
       "                        tax_wedge                 0.324634\n",
       "long_term_unemployment  tax_wedge                 0.295730\n",
       "unemployment_rates      unemployment_spending     0.211257\n",
       "compensation            hours_worked              0.187589\n",
       "suicides_no             long_term_unemployment    0.084854\n",
       "long_term_unemployment  unemployment_spending     0.069829\n",
       "year                    unemployment_rates        0.060166\n",
       "unemployment_rates      tax_wedge                 0.055468\n",
       "year                    unemployment_spending     0.031955\n",
       "suicides_no             hours_worked              0.028531\n",
       "                        unemployment_rates        0.026150\n",
       "compensation            tax_wedge                 0.008164\n",
       "year                    long_term_unemployment    0.003865\n",
       "long_term_unemployment  compensation             -0.021512\n",
       "hours_worked            tax_wedge                -0.055812\n",
       "suicides_no             unemployment_spending    -0.099612\n",
       "year                    tax_wedge                -0.118381\n",
       "hours_worked            unemployment_spending    -0.132909\n",
       "year                    hours_worked             -0.164654\n",
       "                        suicides_no              -0.210019\n",
       "unemployment_rates      compensation             -0.221340\n",
       "compensation            unemployment_spending    -0.303349\n",
       "year                    compensation             -0.343241\n",
       "dtype: float64"
      ]
     },
     "metadata": {},
     "execution_count": 500
    }
   ],
   "source": [
    "c = merged_data[merged_data['sex'] == 'total'].corr()\n",
    "c.where(np.triu(np.ones(c.shape), k=1).astype(np.bool)).stack().sort_values(ascending=False)\n"
   ]
  },
  {
   "cell_type": "code",
   "execution_count": 501,
   "metadata": {},
   "outputs": [
    {
     "output_type": "execute_result",
     "data": {
      "text/plain": [
       "<AxesSubplot:>"
      ]
     },
     "metadata": {},
     "execution_count": 501
    },
    {
     "output_type": "display_data",
     "data": {
      "text/plain": "<Figure size 720x720 with 2 Axes>",
      "image/svg+xml": "<?xml version=\"1.0\" encoding=\"utf-8\" standalone=\"no\"?>\n<!DOCTYPE svg PUBLIC \"-//W3C//DTD SVG 1.1//EN\"\n  \"http://www.w3.org/Graphics/SVG/1.1/DTD/svg11.dtd\">\n<!-- Created with matplotlib (https://matplotlib.org/) -->\n<svg height=\"700.016406pt\" version=\"1.1\" viewBox=\"0 0 685.38 700.016406\" width=\"685.38pt\" xmlns=\"http://www.w3.org/2000/svg\" xmlns:xlink=\"http://www.w3.org/1999/xlink\">\n <metadata>\n  <rdf:RDF xmlns:cc=\"http://creativecommons.org/ns#\" xmlns:dc=\"http://purl.org/dc/elements/1.1/\" xmlns:rdf=\"http://www.w3.org/1999/02/22-rdf-syntax-ns#\">\n   <cc:Work>\n    <dc:type rdf:resource=\"http://purl.org/dc/dcmitype/StillImage\"/>\n    <dc:date>2020-12-12T22:45:10.915641</dc:date>\n    <dc:format>image/svg+xml</dc:format>\n    <dc:creator>\n     <cc:Agent>\n      <dc:title>Matplotlib v3.3.2, https://matplotlib.org/</dc:title>\n     </cc:Agent>\n    </dc:creator>\n   </cc:Work>\n  </rdf:RDF>\n </metadata>\n <defs>\n  <style type=\"text/css\">*{stroke-linecap:butt;stroke-linejoin:round;}</style>\n </defs>\n <g id=\"figure_1\">\n  <g id=\"patch_1\">\n   <path d=\"M -0 700.016406 \nL 685.38 700.016406 \nL 685.38 0 \nL -0 0 \nz\n\" style=\"fill:none;\"/>\n  </g>\n  <g id=\"axes_1\">\n   <g id=\"patch_2\">\n    <path d=\"M 145.417187 554.599219 \nL 591.817188 554.599219 \nL 591.817188 10.999219 \nL 145.417187 10.999219 \nz\n\" style=\"fill:#ffffff;\"/>\n   </g>\n   <g id=\"QuadMesh_1\">\n    <path clip-path=\"url(#p5436330573)\" d=\"M 145.417187 10.999219 \nL 201.217187 10.999219 \nL 201.217187 78.949219 \nL 145.417187 78.949219 \nL 145.417187 10.999219 \n\" style=\"fill:#faebdd;\"/>\n    <path clip-path=\"url(#p5436330573)\" d=\"M 201.217187 10.999219 \nL 257.017187 10.999219 \nL 257.017187 78.949219 \nL 201.217187 78.949219 \nL 201.217187 10.999219 \n\" style=\"fill:#251433;\"/>\n    <path clip-path=\"url(#p5436330573)\" d=\"M 257.017187 10.999219 \nL 312.817188 10.999219 \nL 312.817188 78.949219 \nL 257.017187 78.949219 \nL 257.017187 10.999219 \n\" style=\"fill:#751f58;\"/>\n    <path clip-path=\"url(#p5436330573)\" d=\"M 312.817188 10.999219 \nL 368.617188 10.999219 \nL 368.617188 78.949219 \nL 312.817188 78.949219 \nL 312.817188 10.999219 \n\" style=\"fill:#641f54;\"/>\n    <path clip-path=\"url(#p5436330573)\" d=\"M 368.617188 10.999219 \nL 424.417188 10.999219 \nL 424.417188 78.949219 \nL 368.617188 78.949219 \nL 368.617188 10.999219 \n\" style=\"fill:#03051a;\"/>\n    <path clip-path=\"url(#p5436330573)\" d=\"M 424.417188 10.999219 \nL 480.217188 10.999219 \nL 480.217188 78.949219 \nL 424.417188 78.949219 \nL 424.417188 10.999219 \n\" style=\"fill:#33183c;\"/>\n    <path clip-path=\"url(#p5436330573)\" d=\"M 480.217188 10.999219 \nL 536.017188 10.999219 \nL 536.017188 78.949219 \nL 480.217188 78.949219 \nL 480.217188 10.999219 \n\" style=\"fill:#3f1b43;\"/>\n    <path clip-path=\"url(#p5436330573)\" d=\"M 536.017188 10.999219 \nL 591.817188 10.999219 \nL 591.817188 78.949219 \nL 536.017188 78.949219 \nL 536.017188 10.999219 \n\" style=\"fill:#6d1f56;\"/>\n    <path clip-path=\"url(#p5436330573)\" d=\"M 145.417187 78.949219 \nL 201.217187 78.949219 \nL 201.217187 146.899219 \nL 145.417187 146.899219 \nL 145.417187 78.949219 \n\" style=\"fill:#251433;\"/>\n    <path clip-path=\"url(#p5436330573)\" d=\"M 201.217187 78.949219 \nL 257.017187 78.949219 \nL 257.017187 146.899219 \nL 201.217187 146.899219 \nL 201.217187 78.949219 \n\" style=\"fill:#faebdd;\"/>\n    <path clip-path=\"url(#p5436330573)\" d=\"M 257.017187 78.949219 \nL 312.817188 78.949219 \nL 312.817188 146.899219 \nL 257.017187 146.899219 \nL 257.017187 78.949219 \n\" style=\"fill:#6b1f56;\"/>\n    <path clip-path=\"url(#p5436330573)\" d=\"M 312.817188 78.949219 \nL 368.617188 78.949219 \nL 368.617188 146.899219 \nL 312.817188 146.899219 \nL 312.817188 78.949219 \n\" style=\"fill:#7d1f5a;\"/>\n    <path clip-path=\"url(#p5436330573)\" d=\"M 368.617188 78.949219 \nL 424.417188 78.949219 \nL 424.417188 146.899219 \nL 368.617188 146.899219 \nL 368.617188 78.949219 \n\" style=\"fill:#cb1b4f;\"/>\n    <path clip-path=\"url(#p5436330573)\" d=\"M 424.417188 78.949219 \nL 480.217188 78.949219 \nL 480.217188 146.899219 \nL 424.417188 146.899219 \nL 424.417188 78.949219 \n\" style=\"fill:#6b1f56;\"/>\n    <path clip-path=\"url(#p5436330573)\" d=\"M 480.217188 78.949219 \nL 536.017188 78.949219 \nL 536.017188 146.899219 \nL 480.217188 146.899219 \nL 480.217188 78.949219 \n\" style=\"fill:#ca1a50;\"/>\n    <path clip-path=\"url(#p5436330573)\" d=\"M 536.017188 78.949219 \nL 591.817188 78.949219 \nL 591.817188 146.899219 \nL 536.017188 146.899219 \nL 536.017188 78.949219 \n\" style=\"fill:#451c47;\"/>\n    <path clip-path=\"url(#p5436330573)\" d=\"M 145.417187 146.899219 \nL 201.217187 146.899219 \nL 201.217187 214.849219 \nL 145.417187 214.849219 \nL 145.417187 146.899219 \n\" style=\"fill:#751f58;\"/>\n    <path clip-path=\"url(#p5436330573)\" d=\"M 201.217187 146.899219 \nL 257.017187 146.899219 \nL 257.017187 214.849219 \nL 201.217187 214.849219 \nL 201.217187 146.899219 \n\" style=\"fill:#6b1f56;\"/>\n    <path clip-path=\"url(#p5436330573)\" d=\"M 257.017187 146.899219 \nL 312.817188 146.899219 \nL 312.817188 214.849219 \nL 257.017187 214.849219 \nL 257.017187 146.899219 \n\" style=\"fill:#faebdd;\"/>\n    <path clip-path=\"url(#p5436330573)\" d=\"M 312.817188 146.899219 \nL 368.617188 146.899219 \nL 368.617188 214.849219 \nL 312.817188 214.849219 \nL 312.817188 146.899219 \n\" style=\"fill:#f06043;\"/>\n    <path clip-path=\"url(#p5436330573)\" d=\"M 368.617188 146.899219 \nL 424.417188 146.899219 \nL 424.417188 214.849219 \nL 368.617188 214.849219 \nL 368.617188 146.899219 \n\" style=\"fill:#221331;\"/>\n    <path clip-path=\"url(#p5436330573)\" d=\"M 424.417188 146.899219 \nL 480.217188 146.899219 \nL 480.217188 214.849219 \nL 424.417188 214.849219 \nL 424.417188 146.899219 \n\" style=\"fill:#e23442;\"/>\n    <path clip-path=\"url(#p5436330573)\" d=\"M 480.217188 146.899219 \nL 536.017188 146.899219 \nL 536.017188 214.849219 \nL 480.217188 214.849219 \nL 480.217188 146.899219 \n\" style=\"fill:#731f58;\"/>\n    <path clip-path=\"url(#p5436330573)\" d=\"M 536.017188 146.899219 \nL 591.817188 146.899219 \nL 591.817188 214.849219 \nL 536.017188 214.849219 \nL 536.017188 146.899219 \n\" style=\"fill:#a6195a;\"/>\n    <path clip-path=\"url(#p5436330573)\" d=\"M 145.417187 214.849219 \nL 201.217187 214.849219 \nL 201.217187 282.799219 \nL 145.417187 282.799219 \nL 145.417187 214.849219 \n\" style=\"fill:#641f54;\"/>\n    <path clip-path=\"url(#p5436330573)\" d=\"M 201.217187 214.849219 \nL 257.017187 214.849219 \nL 257.017187 282.799219 \nL 201.217187 282.799219 \nL 201.217187 214.849219 \n\" style=\"fill:#7d1f5a;\"/>\n    <path clip-path=\"url(#p5436330573)\" d=\"M 257.017187 214.849219 \nL 312.817188 214.849219 \nL 312.817188 282.799219 \nL 257.017187 282.799219 \nL 257.017187 214.849219 \n\" style=\"fill:#f06043;\"/>\n    <path clip-path=\"url(#p5436330573)\" d=\"M 312.817188 214.849219 \nL 368.617188 214.849219 \nL 368.617188 282.799219 \nL 312.817188 282.799219 \nL 312.817188 214.849219 \n\" style=\"fill:#faebdd;\"/>\n    <path clip-path=\"url(#p5436330573)\" d=\"M 368.617188 214.849219 \nL 424.417188 214.849219 \nL 424.417188 282.799219 \nL 368.617188 282.799219 \nL 368.617188 214.849219 \n\" style=\"fill:#5c1e51;\"/>\n    <path clip-path=\"url(#p5436330573)\" d=\"M 424.417188 214.849219 \nL 480.217188 214.849219 \nL 480.217188 282.799219 \nL 424.417188 282.799219 \nL 424.417188 214.849219 \n\" style=\"fill:#f05e42;\"/>\n    <path clip-path=\"url(#p5436330573)\" d=\"M 480.217188 214.849219 \nL 536.017188 214.849219 \nL 536.017188 282.799219 \nL 480.217188 282.799219 \nL 480.217188 214.849219 \n\" style=\"fill:#c11754;\"/>\n    <path clip-path=\"url(#p5436330573)\" d=\"M 536.017188 214.849219 \nL 591.817188 214.849219 \nL 591.817188 282.799219 \nL 536.017188 282.799219 \nL 536.017188 214.849219 \n\" style=\"fill:#781f59;\"/>\n    <path clip-path=\"url(#p5436330573)\" d=\"M 145.417187 282.799219 \nL 201.217187 282.799219 \nL 201.217187 350.749219 \nL 145.417187 350.749219 \nL 145.417187 282.799219 \n\" style=\"fill:#03051a;\"/>\n    <path clip-path=\"url(#p5436330573)\" d=\"M 201.217187 282.799219 \nL 257.017187 282.799219 \nL 257.017187 350.749219 \nL 201.217187 350.749219 \nL 201.217187 282.799219 \n\" style=\"fill:#cb1b4f;\"/>\n    <path clip-path=\"url(#p5436330573)\" d=\"M 257.017187 282.799219 \nL 312.817188 282.799219 \nL 312.817188 350.749219 \nL 257.017187 350.749219 \nL 257.017187 282.799219 \n\" style=\"fill:#221331;\"/>\n    <path clip-path=\"url(#p5436330573)\" d=\"M 312.817188 282.799219 \nL 368.617188 282.799219 \nL 368.617188 350.749219 \nL 312.817188 350.749219 \nL 312.817188 282.799219 \n\" style=\"fill:#5c1e51;\"/>\n    <path clip-path=\"url(#p5436330573)\" d=\"M 368.617188 282.799219 \nL 424.417188 282.799219 \nL 424.417188 350.749219 \nL 368.617188 350.749219 \nL 368.617188 282.799219 \n\" style=\"fill:#faebdd;\"/>\n    <path clip-path=\"url(#p5436330573)\" d=\"M 424.417188 282.799219 \nL 480.217188 282.799219 \nL 480.217188 350.749219 \nL 424.417188 350.749219 \nL 424.417188 282.799219 \n\" style=\"fill:#9f1a5b;\"/>\n    <path clip-path=\"url(#p5436330573)\" d=\"M 480.217188 282.799219 \nL 536.017188 282.799219 \nL 536.017188 350.749219 \nL 480.217188 350.749219 \nL 480.217188 282.799219 \n\" style=\"fill:#641f54;\"/>\n    <path clip-path=\"url(#p5436330573)\" d=\"M 536.017188 282.799219 \nL 591.817188 282.799219 \nL 591.817188 350.749219 \nL 536.017188 350.749219 \nL 536.017188 282.799219 \n\" style=\"fill:#0b0920;\"/>\n    <path clip-path=\"url(#p5436330573)\" d=\"M 145.417187 350.749219 \nL 201.217187 350.749219 \nL 201.217187 418.699219 \nL 145.417187 418.699219 \nL 145.417187 350.749219 \n\" style=\"fill:#33183c;\"/>\n    <path clip-path=\"url(#p5436330573)\" d=\"M 201.217187 350.749219 \nL 257.017187 350.749219 \nL 257.017187 418.699219 \nL 201.217187 418.699219 \nL 201.217187 350.749219 \n\" style=\"fill:#6b1f56;\"/>\n    <path clip-path=\"url(#p5436330573)\" d=\"M 257.017187 350.749219 \nL 312.817188 350.749219 \nL 312.817188 418.699219 \nL 257.017187 418.699219 \nL 257.017187 350.749219 \n\" style=\"fill:#e23442;\"/>\n    <path clip-path=\"url(#p5436330573)\" d=\"M 312.817188 350.749219 \nL 368.617188 350.749219 \nL 368.617188 418.699219 \nL 312.817188 418.699219 \nL 312.817188 350.749219 \n\" style=\"fill:#f05e42;\"/>\n    <path clip-path=\"url(#p5436330573)\" d=\"M 368.617188 350.749219 \nL 424.417188 350.749219 \nL 424.417188 418.699219 \nL 368.617188 418.699219 \nL 368.617188 350.749219 \n\" style=\"fill:#9f1a5b;\"/>\n    <path clip-path=\"url(#p5436330573)\" d=\"M 424.417188 350.749219 \nL 480.217188 350.749219 \nL 480.217188 418.699219 \nL 424.417188 418.699219 \nL 424.417188 350.749219 \n\" style=\"fill:#faebdd;\"/>\n    <path clip-path=\"url(#p5436330573)\" d=\"M 480.217188 350.749219 \nL 536.017188 350.749219 \nL 536.017188 418.699219 \nL 480.217188 418.699219 \nL 480.217188 350.749219 \n\" style=\"fill:#511e4d;\"/>\n    <path clip-path=\"url(#p5436330573)\" d=\"M 536.017188 350.749219 \nL 591.817188 350.749219 \nL 591.817188 418.699219 \nL 536.017188 418.699219 \nL 536.017188 350.749219 \n\" style=\"fill:#3c1a42;\"/>\n    <path clip-path=\"url(#p5436330573)\" d=\"M 145.417187 418.699219 \nL 201.217187 418.699219 \nL 201.217187 486.649219 \nL 145.417187 486.649219 \nL 145.417187 418.699219 \n\" style=\"fill:#3f1b43;\"/>\n    <path clip-path=\"url(#p5436330573)\" d=\"M 201.217187 418.699219 \nL 257.017187 418.699219 \nL 257.017187 486.649219 \nL 201.217187 486.649219 \nL 201.217187 418.699219 \n\" style=\"fill:#ca1a50;\"/>\n    <path clip-path=\"url(#p5436330573)\" d=\"M 257.017187 418.699219 \nL 312.817188 418.699219 \nL 312.817188 486.649219 \nL 257.017187 486.649219 \nL 257.017187 418.699219 \n\" style=\"fill:#731f58;\"/>\n    <path clip-path=\"url(#p5436330573)\" d=\"M 312.817188 418.699219 \nL 368.617188 418.699219 \nL 368.617188 486.649219 \nL 312.817188 486.649219 \nL 312.817188 418.699219 \n\" style=\"fill:#c11754;\"/>\n    <path clip-path=\"url(#p5436330573)\" d=\"M 368.617188 418.699219 \nL 424.417188 418.699219 \nL 424.417188 486.649219 \nL 368.617188 486.649219 \nL 368.617188 418.699219 \n\" style=\"fill:#641f54;\"/>\n    <path clip-path=\"url(#p5436330573)\" d=\"M 424.417188 418.699219 \nL 480.217188 418.699219 \nL 480.217188 486.649219 \nL 424.417188 486.649219 \nL 424.417188 418.699219 \n\" style=\"fill:#511e4d;\"/>\n    <path clip-path=\"url(#p5436330573)\" d=\"M 480.217188 418.699219 \nL 536.017188 418.699219 \nL 536.017188 486.649219 \nL 480.217188 486.649219 \nL 480.217188 418.699219 \n\" style=\"fill:#faebdd;\"/>\n    <path clip-path=\"url(#p5436330573)\" d=\"M 536.017188 418.699219 \nL 591.817188 418.699219 \nL 591.817188 486.649219 \nL 536.017188 486.649219 \nL 536.017188 418.699219 \n\" style=\"fill:#cd1c4e;\"/>\n    <path clip-path=\"url(#p5436330573)\" d=\"M 145.417187 486.649219 \nL 201.217187 486.649219 \nL 201.217187 554.599219 \nL 145.417187 554.599219 \nL 145.417187 486.649219 \n\" style=\"fill:#6d1f56;\"/>\n    <path clip-path=\"url(#p5436330573)\" d=\"M 201.217187 486.649219 \nL 257.017187 486.649219 \nL 257.017187 554.599219 \nL 201.217187 554.599219 \nL 201.217187 486.649219 \n\" style=\"fill:#451c47;\"/>\n    <path clip-path=\"url(#p5436330573)\" d=\"M 257.017187 486.649219 \nL 312.817188 486.649219 \nL 312.817188 554.599219 \nL 257.017187 554.599219 \nL 257.017187 486.649219 \n\" style=\"fill:#a6195a;\"/>\n    <path clip-path=\"url(#p5436330573)\" d=\"M 312.817188 486.649219 \nL 368.617188 486.649219 \nL 368.617188 554.599219 \nL 312.817188 554.599219 \nL 312.817188 486.649219 \n\" style=\"fill:#781f59;\"/>\n    <path clip-path=\"url(#p5436330573)\" d=\"M 368.617188 486.649219 \nL 424.417188 486.649219 \nL 424.417188 554.599219 \nL 368.617188 554.599219 \nL 368.617188 486.649219 \n\" style=\"fill:#0b0920;\"/>\n    <path clip-path=\"url(#p5436330573)\" d=\"M 424.417188 486.649219 \nL 480.217188 486.649219 \nL 480.217188 554.599219 \nL 424.417188 554.599219 \nL 424.417188 486.649219 \n\" style=\"fill:#3c1a42;\"/>\n    <path clip-path=\"url(#p5436330573)\" d=\"M 480.217188 486.649219 \nL 536.017188 486.649219 \nL 536.017188 554.599219 \nL 480.217188 554.599219 \nL 480.217188 486.649219 \n\" style=\"fill:#cd1c4e;\"/>\n    <path clip-path=\"url(#p5436330573)\" d=\"M 536.017188 486.649219 \nL 591.817188 486.649219 \nL 591.817188 554.599219 \nL 536.017188 554.599219 \nL 536.017188 486.649219 \n\" style=\"fill:#faebdd;\"/>\n   </g>\n   <g id=\"matplotlib.axis_1\">\n    <g id=\"xtick_1\">\n     <g id=\"line2d_1\">\n      <defs>\n       <path d=\"M 0 0 \nL 0 3.5 \n\" id=\"mae9dda48d2\" style=\"stroke:#000000;stroke-width:0.8;\"/>\n      </defs>\n      <g>\n       <use style=\"stroke:#000000;stroke-width:0.8;\" x=\"173.317187\" xlink:href=\"#mae9dda48d2\" y=\"554.599219\"/>\n      </g>\n     </g>\n     <g id=\"text_1\">\n      <!-- year -->\n      <g transform=\"translate(176.076562 583.910156)rotate(-90)scale(0.1 -0.1)\">\n       <defs>\n        <path d=\"M 32.171875 -5.078125 \nQ 28.375 -14.84375 24.75 -17.8125 \nQ 21.140625 -20.796875 15.09375 -20.796875 \nL 7.90625 -20.796875 \nL 7.90625 -13.28125 \nL 13.1875 -13.28125 \nQ 16.890625 -13.28125 18.9375 -11.515625 \nQ 21 -9.765625 23.484375 -3.21875 \nL 25.09375 0.875 \nL 2.984375 54.6875 \nL 12.5 54.6875 \nL 29.59375 11.921875 \nL 46.6875 54.6875 \nL 56.203125 54.6875 \nz\n\" id=\"DejaVuSans-121\"/>\n        <path d=\"M 56.203125 29.59375 \nL 56.203125 25.203125 \nL 14.890625 25.203125 \nQ 15.484375 15.921875 20.484375 11.0625 \nQ 25.484375 6.203125 34.421875 6.203125 \nQ 39.59375 6.203125 44.453125 7.46875 \nQ 49.3125 8.734375 54.109375 11.28125 \nL 54.109375 2.78125 \nQ 49.265625 0.734375 44.1875 -0.34375 \nQ 39.109375 -1.421875 33.890625 -1.421875 \nQ 20.796875 -1.421875 13.15625 6.1875 \nQ 5.515625 13.8125 5.515625 26.8125 \nQ 5.515625 40.234375 12.765625 48.109375 \nQ 20.015625 56 32.328125 56 \nQ 43.359375 56 49.78125 48.890625 \nQ 56.203125 41.796875 56.203125 29.59375 \nz\nM 47.21875 32.234375 \nQ 47.125 39.59375 43.09375 43.984375 \nQ 39.0625 48.390625 32.421875 48.390625 \nQ 24.90625 48.390625 20.390625 44.140625 \nQ 15.875 39.890625 15.1875 32.171875 \nz\n\" id=\"DejaVuSans-101\"/>\n        <path d=\"M 34.28125 27.484375 \nQ 23.390625 27.484375 19.1875 25 \nQ 14.984375 22.515625 14.984375 16.5 \nQ 14.984375 11.71875 18.140625 8.90625 \nQ 21.296875 6.109375 26.703125 6.109375 \nQ 34.1875 6.109375 38.703125 11.40625 \nQ 43.21875 16.703125 43.21875 25.484375 \nL 43.21875 27.484375 \nz\nM 52.203125 31.203125 \nL 52.203125 0 \nL 43.21875 0 \nL 43.21875 8.296875 \nQ 40.140625 3.328125 35.546875 0.953125 \nQ 30.953125 -1.421875 24.3125 -1.421875 \nQ 15.921875 -1.421875 10.953125 3.296875 \nQ 6 8.015625 6 15.921875 \nQ 6 25.140625 12.171875 29.828125 \nQ 18.359375 34.515625 30.609375 34.515625 \nL 43.21875 34.515625 \nL 43.21875 35.40625 \nQ 43.21875 41.609375 39.140625 45 \nQ 35.0625 48.390625 27.6875 48.390625 \nQ 23 48.390625 18.546875 47.265625 \nQ 14.109375 46.140625 10.015625 43.890625 \nL 10.015625 52.203125 \nQ 14.9375 54.109375 19.578125 55.046875 \nQ 24.21875 56 28.609375 56 \nQ 40.484375 56 46.34375 49.84375 \nQ 52.203125 43.703125 52.203125 31.203125 \nz\n\" id=\"DejaVuSans-97\"/>\n        <path d=\"M 41.109375 46.296875 \nQ 39.59375 47.171875 37.8125 47.578125 \nQ 36.03125 48 33.890625 48 \nQ 26.265625 48 22.1875 43.046875 \nQ 18.109375 38.09375 18.109375 28.8125 \nL 18.109375 0 \nL 9.078125 0 \nL 9.078125 54.6875 \nL 18.109375 54.6875 \nL 18.109375 46.1875 \nQ 20.953125 51.171875 25.484375 53.578125 \nQ 30.03125 56 36.53125 56 \nQ 37.453125 56 38.578125 55.875 \nQ 39.703125 55.765625 41.0625 55.515625 \nz\n\" id=\"DejaVuSans-114\"/>\n       </defs>\n       <use xlink:href=\"#DejaVuSans-121\"/>\n       <use x=\"59.179688\" xlink:href=\"#DejaVuSans-101\"/>\n       <use x=\"120.703125\" xlink:href=\"#DejaVuSans-97\"/>\n       <use x=\"181.982422\" xlink:href=\"#DejaVuSans-114\"/>\n      </g>\n     </g>\n    </g>\n    <g id=\"xtick_2\">\n     <g id=\"line2d_2\">\n      <g>\n       <use style=\"stroke:#000000;stroke-width:0.8;\" x=\"229.117188\" xlink:href=\"#mae9dda48d2\" y=\"554.599219\"/>\n      </g>\n     </g>\n     <g id=\"text_2\">\n      <!-- suicides_no -->\n      <g transform=\"translate(231.7375 619.367969)rotate(-90)scale(0.1 -0.1)\">\n       <defs>\n        <path d=\"M 44.28125 53.078125 \nL 44.28125 44.578125 \nQ 40.484375 46.53125 36.375 47.5 \nQ 32.28125 48.484375 27.875 48.484375 \nQ 21.1875 48.484375 17.84375 46.4375 \nQ 14.5 44.390625 14.5 40.28125 \nQ 14.5 37.15625 16.890625 35.375 \nQ 19.28125 33.59375 26.515625 31.984375 \nL 29.59375 31.296875 \nQ 39.15625 29.25 43.1875 25.515625 \nQ 47.21875 21.78125 47.21875 15.09375 \nQ 47.21875 7.46875 41.1875 3.015625 \nQ 35.15625 -1.421875 24.609375 -1.421875 \nQ 20.21875 -1.421875 15.453125 -0.5625 \nQ 10.6875 0.296875 5.421875 2 \nL 5.421875 11.28125 \nQ 10.40625 8.6875 15.234375 7.390625 \nQ 20.0625 6.109375 24.8125 6.109375 \nQ 31.15625 6.109375 34.5625 8.28125 \nQ 37.984375 10.453125 37.984375 14.40625 \nQ 37.984375 18.0625 35.515625 20.015625 \nQ 33.0625 21.96875 24.703125 23.78125 \nL 21.578125 24.515625 \nQ 13.234375 26.265625 9.515625 29.90625 \nQ 5.8125 33.546875 5.8125 39.890625 \nQ 5.8125 47.609375 11.28125 51.796875 \nQ 16.75 56 26.8125 56 \nQ 31.78125 56 36.171875 55.265625 \nQ 40.578125 54.546875 44.28125 53.078125 \nz\n\" id=\"DejaVuSans-115\"/>\n        <path d=\"M 8.5 21.578125 \nL 8.5 54.6875 \nL 17.484375 54.6875 \nL 17.484375 21.921875 \nQ 17.484375 14.15625 20.5 10.265625 \nQ 23.53125 6.390625 29.59375 6.390625 \nQ 36.859375 6.390625 41.078125 11.03125 \nQ 45.3125 15.671875 45.3125 23.6875 \nL 45.3125 54.6875 \nL 54.296875 54.6875 \nL 54.296875 0 \nL 45.3125 0 \nL 45.3125 8.40625 \nQ 42.046875 3.421875 37.71875 1 \nQ 33.40625 -1.421875 27.6875 -1.421875 \nQ 18.265625 -1.421875 13.375 4.4375 \nQ 8.5 10.296875 8.5 21.578125 \nz\nM 31.109375 56 \nz\n\" id=\"DejaVuSans-117\"/>\n        <path d=\"M 9.421875 54.6875 \nL 18.40625 54.6875 \nL 18.40625 0 \nL 9.421875 0 \nz\nM 9.421875 75.984375 \nL 18.40625 75.984375 \nL 18.40625 64.59375 \nL 9.421875 64.59375 \nz\n\" id=\"DejaVuSans-105\"/>\n        <path d=\"M 48.78125 52.59375 \nL 48.78125 44.1875 \nQ 44.96875 46.296875 41.140625 47.34375 \nQ 37.3125 48.390625 33.40625 48.390625 \nQ 24.65625 48.390625 19.8125 42.84375 \nQ 14.984375 37.3125 14.984375 27.296875 \nQ 14.984375 17.28125 19.8125 11.734375 \nQ 24.65625 6.203125 33.40625 6.203125 \nQ 37.3125 6.203125 41.140625 7.25 \nQ 44.96875 8.296875 48.78125 10.40625 \nL 48.78125 2.09375 \nQ 45.015625 0.34375 40.984375 -0.53125 \nQ 36.96875 -1.421875 32.421875 -1.421875 \nQ 20.0625 -1.421875 12.78125 6.34375 \nQ 5.515625 14.109375 5.515625 27.296875 \nQ 5.515625 40.671875 12.859375 48.328125 \nQ 20.21875 56 33.015625 56 \nQ 37.15625 56 41.109375 55.140625 \nQ 45.0625 54.296875 48.78125 52.59375 \nz\n\" id=\"DejaVuSans-99\"/>\n        <path d=\"M 45.40625 46.390625 \nL 45.40625 75.984375 \nL 54.390625 75.984375 \nL 54.390625 0 \nL 45.40625 0 \nL 45.40625 8.203125 \nQ 42.578125 3.328125 38.25 0.953125 \nQ 33.9375 -1.421875 27.875 -1.421875 \nQ 17.96875 -1.421875 11.734375 6.484375 \nQ 5.515625 14.40625 5.515625 27.296875 \nQ 5.515625 40.1875 11.734375 48.09375 \nQ 17.96875 56 27.875 56 \nQ 33.9375 56 38.25 53.625 \nQ 42.578125 51.265625 45.40625 46.390625 \nz\nM 14.796875 27.296875 \nQ 14.796875 17.390625 18.875 11.75 \nQ 22.953125 6.109375 30.078125 6.109375 \nQ 37.203125 6.109375 41.296875 11.75 \nQ 45.40625 17.390625 45.40625 27.296875 \nQ 45.40625 37.203125 41.296875 42.84375 \nQ 37.203125 48.484375 30.078125 48.484375 \nQ 22.953125 48.484375 18.875 42.84375 \nQ 14.796875 37.203125 14.796875 27.296875 \nz\n\" id=\"DejaVuSans-100\"/>\n        <path d=\"M 50.984375 -16.609375 \nL 50.984375 -23.578125 \nL -0.984375 -23.578125 \nL -0.984375 -16.609375 \nz\n\" id=\"DejaVuSans-95\"/>\n        <path d=\"M 54.890625 33.015625 \nL 54.890625 0 \nL 45.90625 0 \nL 45.90625 32.71875 \nQ 45.90625 40.484375 42.875 44.328125 \nQ 39.84375 48.1875 33.796875 48.1875 \nQ 26.515625 48.1875 22.3125 43.546875 \nQ 18.109375 38.921875 18.109375 30.90625 \nL 18.109375 0 \nL 9.078125 0 \nL 9.078125 54.6875 \nL 18.109375 54.6875 \nL 18.109375 46.1875 \nQ 21.34375 51.125 25.703125 53.5625 \nQ 30.078125 56 35.796875 56 \nQ 45.21875 56 50.046875 50.171875 \nQ 54.890625 44.34375 54.890625 33.015625 \nz\n\" id=\"DejaVuSans-110\"/>\n        <path d=\"M 30.609375 48.390625 \nQ 23.390625 48.390625 19.1875 42.75 \nQ 14.984375 37.109375 14.984375 27.296875 \nQ 14.984375 17.484375 19.15625 11.84375 \nQ 23.34375 6.203125 30.609375 6.203125 \nQ 37.796875 6.203125 41.984375 11.859375 \nQ 46.1875 17.53125 46.1875 27.296875 \nQ 46.1875 37.015625 41.984375 42.703125 \nQ 37.796875 48.390625 30.609375 48.390625 \nz\nM 30.609375 56 \nQ 42.328125 56 49.015625 48.375 \nQ 55.71875 40.765625 55.71875 27.296875 \nQ 55.71875 13.875 49.015625 6.21875 \nQ 42.328125 -1.421875 30.609375 -1.421875 \nQ 18.84375 -1.421875 12.171875 6.21875 \nQ 5.515625 13.875 5.515625 27.296875 \nQ 5.515625 40.765625 12.171875 48.375 \nQ 18.84375 56 30.609375 56 \nz\n\" id=\"DejaVuSans-111\"/>\n       </defs>\n       <use xlink:href=\"#DejaVuSans-115\"/>\n       <use x=\"52.099609\" xlink:href=\"#DejaVuSans-117\"/>\n       <use x=\"115.478516\" xlink:href=\"#DejaVuSans-105\"/>\n       <use x=\"143.261719\" xlink:href=\"#DejaVuSans-99\"/>\n       <use x=\"198.242188\" xlink:href=\"#DejaVuSans-105\"/>\n       <use x=\"226.025391\" xlink:href=\"#DejaVuSans-100\"/>\n       <use x=\"289.501953\" xlink:href=\"#DejaVuSans-101\"/>\n       <use x=\"351.025391\" xlink:href=\"#DejaVuSans-115\"/>\n       <use x=\"403.125\" xlink:href=\"#DejaVuSans-95\"/>\n       <use x=\"453.125\" xlink:href=\"#DejaVuSans-110\"/>\n       <use x=\"516.503906\" xlink:href=\"#DejaVuSans-111\"/>\n      </g>\n     </g>\n    </g>\n    <g id=\"xtick_3\">\n     <g id=\"line2d_3\">\n      <g>\n       <use style=\"stroke:#000000;stroke-width:0.8;\" x=\"284.917188\" xlink:href=\"#mae9dda48d2\" y=\"554.599219\"/>\n      </g>\n     </g>\n     <g id=\"text_3\">\n      <!-- unemployment_rates -->\n      <g transform=\"translate(287.5375 668.005469)rotate(-90)scale(0.1 -0.1)\">\n       <defs>\n        <path d=\"M 52 44.1875 \nQ 55.375 50.25 60.0625 53.125 \nQ 64.75 56 71.09375 56 \nQ 79.640625 56 84.28125 50.015625 \nQ 88.921875 44.046875 88.921875 33.015625 \nL 88.921875 0 \nL 79.890625 0 \nL 79.890625 32.71875 \nQ 79.890625 40.578125 77.09375 44.375 \nQ 74.3125 48.1875 68.609375 48.1875 \nQ 61.625 48.1875 57.5625 43.546875 \nQ 53.515625 38.921875 53.515625 30.90625 \nL 53.515625 0 \nL 44.484375 0 \nL 44.484375 32.71875 \nQ 44.484375 40.625 41.703125 44.40625 \nQ 38.921875 48.1875 33.109375 48.1875 \nQ 26.21875 48.1875 22.15625 43.53125 \nQ 18.109375 38.875 18.109375 30.90625 \nL 18.109375 0 \nL 9.078125 0 \nL 9.078125 54.6875 \nL 18.109375 54.6875 \nL 18.109375 46.1875 \nQ 21.1875 51.21875 25.484375 53.609375 \nQ 29.78125 56 35.6875 56 \nQ 41.65625 56 45.828125 52.96875 \nQ 50 49.953125 52 44.1875 \nz\n\" id=\"DejaVuSans-109\"/>\n        <path d=\"M 18.109375 8.203125 \nL 18.109375 -20.796875 \nL 9.078125 -20.796875 \nL 9.078125 54.6875 \nL 18.109375 54.6875 \nL 18.109375 46.390625 \nQ 20.953125 51.265625 25.265625 53.625 \nQ 29.59375 56 35.59375 56 \nQ 45.5625 56 51.78125 48.09375 \nQ 58.015625 40.1875 58.015625 27.296875 \nQ 58.015625 14.40625 51.78125 6.484375 \nQ 45.5625 -1.421875 35.59375 -1.421875 \nQ 29.59375 -1.421875 25.265625 0.953125 \nQ 20.953125 3.328125 18.109375 8.203125 \nz\nM 48.6875 27.296875 \nQ 48.6875 37.203125 44.609375 42.84375 \nQ 40.53125 48.484375 33.40625 48.484375 \nQ 26.265625 48.484375 22.1875 42.84375 \nQ 18.109375 37.203125 18.109375 27.296875 \nQ 18.109375 17.390625 22.1875 11.75 \nQ 26.265625 6.109375 33.40625 6.109375 \nQ 40.53125 6.109375 44.609375 11.75 \nQ 48.6875 17.390625 48.6875 27.296875 \nz\n\" id=\"DejaVuSans-112\"/>\n        <path d=\"M 9.421875 75.984375 \nL 18.40625 75.984375 \nL 18.40625 0 \nL 9.421875 0 \nz\n\" id=\"DejaVuSans-108\"/>\n        <path d=\"M 18.3125 70.21875 \nL 18.3125 54.6875 \nL 36.8125 54.6875 \nL 36.8125 47.703125 \nL 18.3125 47.703125 \nL 18.3125 18.015625 \nQ 18.3125 11.328125 20.140625 9.421875 \nQ 21.96875 7.515625 27.59375 7.515625 \nL 36.8125 7.515625 \nL 36.8125 0 \nL 27.59375 0 \nQ 17.1875 0 13.234375 3.875 \nQ 9.28125 7.765625 9.28125 18.015625 \nL 9.28125 47.703125 \nL 2.6875 47.703125 \nL 2.6875 54.6875 \nL 9.28125 54.6875 \nL 9.28125 70.21875 \nz\n\" id=\"DejaVuSans-116\"/>\n       </defs>\n       <use xlink:href=\"#DejaVuSans-117\"/>\n       <use x=\"63.378906\" xlink:href=\"#DejaVuSans-110\"/>\n       <use x=\"126.757812\" xlink:href=\"#DejaVuSans-101\"/>\n       <use x=\"188.28125\" xlink:href=\"#DejaVuSans-109\"/>\n       <use x=\"285.693359\" xlink:href=\"#DejaVuSans-112\"/>\n       <use x=\"349.169922\" xlink:href=\"#DejaVuSans-108\"/>\n       <use x=\"376.953125\" xlink:href=\"#DejaVuSans-111\"/>\n       <use x=\"438.134766\" xlink:href=\"#DejaVuSans-121\"/>\n       <use x=\"497.314453\" xlink:href=\"#DejaVuSans-109\"/>\n       <use x=\"594.726562\" xlink:href=\"#DejaVuSans-101\"/>\n       <use x=\"656.25\" xlink:href=\"#DejaVuSans-110\"/>\n       <use x=\"719.628906\" xlink:href=\"#DejaVuSans-116\"/>\n       <use x=\"758.837891\" xlink:href=\"#DejaVuSans-95\"/>\n       <use x=\"808.837891\" xlink:href=\"#DejaVuSans-114\"/>\n       <use x=\"849.951172\" xlink:href=\"#DejaVuSans-97\"/>\n       <use x=\"911.230469\" xlink:href=\"#DejaVuSans-116\"/>\n       <use x=\"950.439453\" xlink:href=\"#DejaVuSans-101\"/>\n       <use x=\"1011.962891\" xlink:href=\"#DejaVuSans-115\"/>\n      </g>\n     </g>\n    </g>\n    <g id=\"xtick_4\">\n     <g id=\"line2d_4\">\n      <g>\n       <use style=\"stroke:#000000;stroke-width:0.8;\" x=\"340.717188\" xlink:href=\"#mae9dda48d2\" y=\"554.599219\"/>\n      </g>\n     </g>\n     <g id=\"text_4\">\n      <!-- long_term_unemployment -->\n      <g transform=\"translate(343.3375 692.816406)rotate(-90)scale(0.1 -0.1)\">\n       <defs>\n        <path d=\"M 45.40625 27.984375 \nQ 45.40625 37.75 41.375 43.109375 \nQ 37.359375 48.484375 30.078125 48.484375 \nQ 22.859375 48.484375 18.828125 43.109375 \nQ 14.796875 37.75 14.796875 27.984375 \nQ 14.796875 18.265625 18.828125 12.890625 \nQ 22.859375 7.515625 30.078125 7.515625 \nQ 37.359375 7.515625 41.375 12.890625 \nQ 45.40625 18.265625 45.40625 27.984375 \nz\nM 54.390625 6.78125 \nQ 54.390625 -7.171875 48.1875 -13.984375 \nQ 42 -20.796875 29.203125 -20.796875 \nQ 24.46875 -20.796875 20.265625 -20.09375 \nQ 16.0625 -19.390625 12.109375 -17.921875 \nL 12.109375 -9.1875 \nQ 16.0625 -11.328125 19.921875 -12.34375 \nQ 23.78125 -13.375 27.78125 -13.375 \nQ 36.625 -13.375 41.015625 -8.765625 \nQ 45.40625 -4.15625 45.40625 5.171875 \nL 45.40625 9.625 \nQ 42.625 4.78125 38.28125 2.390625 \nQ 33.9375 0 27.875 0 \nQ 17.828125 0 11.671875 7.65625 \nQ 5.515625 15.328125 5.515625 27.984375 \nQ 5.515625 40.671875 11.671875 48.328125 \nQ 17.828125 56 27.875 56 \nQ 33.9375 56 38.28125 53.609375 \nQ 42.625 51.21875 45.40625 46.390625 \nL 45.40625 54.6875 \nL 54.390625 54.6875 \nz\n\" id=\"DejaVuSans-103\"/>\n       </defs>\n       <use xlink:href=\"#DejaVuSans-108\"/>\n       <use x=\"27.783203\" xlink:href=\"#DejaVuSans-111\"/>\n       <use x=\"88.964844\" xlink:href=\"#DejaVuSans-110\"/>\n       <use x=\"152.34375\" xlink:href=\"#DejaVuSans-103\"/>\n       <use x=\"215.820312\" xlink:href=\"#DejaVuSans-95\"/>\n       <use x=\"265.820312\" xlink:href=\"#DejaVuSans-116\"/>\n       <use x=\"305.029297\" xlink:href=\"#DejaVuSans-101\"/>\n       <use x=\"366.552734\" xlink:href=\"#DejaVuSans-114\"/>\n       <use x=\"405.916016\" xlink:href=\"#DejaVuSans-109\"/>\n       <use x=\"503.328125\" xlink:href=\"#DejaVuSans-95\"/>\n       <use x=\"553.328125\" xlink:href=\"#DejaVuSans-117\"/>\n       <use x=\"616.707031\" xlink:href=\"#DejaVuSans-110\"/>\n       <use x=\"680.085938\" xlink:href=\"#DejaVuSans-101\"/>\n       <use x=\"741.609375\" xlink:href=\"#DejaVuSans-109\"/>\n       <use x=\"839.021484\" xlink:href=\"#DejaVuSans-112\"/>\n       <use x=\"902.498047\" xlink:href=\"#DejaVuSans-108\"/>\n       <use x=\"930.28125\" xlink:href=\"#DejaVuSans-111\"/>\n       <use x=\"991.462891\" xlink:href=\"#DejaVuSans-121\"/>\n       <use x=\"1050.642578\" xlink:href=\"#DejaVuSans-109\"/>\n       <use x=\"1148.054688\" xlink:href=\"#DejaVuSans-101\"/>\n       <use x=\"1209.578125\" xlink:href=\"#DejaVuSans-110\"/>\n       <use x=\"1272.957031\" xlink:href=\"#DejaVuSans-116\"/>\n      </g>\n     </g>\n    </g>\n    <g id=\"xtick_5\">\n     <g id=\"line2d_5\">\n      <g>\n       <use style=\"stroke:#000000;stroke-width:0.8;\" x=\"396.517188\" xlink:href=\"#mae9dda48d2\" y=\"554.599219\"/>\n      </g>\n     </g>\n     <g id=\"text_5\">\n      <!-- compensation -->\n      <g transform=\"translate(399.276563 632.288281)rotate(-90)scale(0.1 -0.1)\">\n       <use xlink:href=\"#DejaVuSans-99\"/>\n       <use x=\"54.980469\" xlink:href=\"#DejaVuSans-111\"/>\n       <use x=\"116.162109\" xlink:href=\"#DejaVuSans-109\"/>\n       <use x=\"213.574219\" xlink:href=\"#DejaVuSans-112\"/>\n       <use x=\"277.050781\" xlink:href=\"#DejaVuSans-101\"/>\n       <use x=\"338.574219\" xlink:href=\"#DejaVuSans-110\"/>\n       <use x=\"401.953125\" xlink:href=\"#DejaVuSans-115\"/>\n       <use x=\"454.052734\" xlink:href=\"#DejaVuSans-97\"/>\n       <use x=\"515.332031\" xlink:href=\"#DejaVuSans-116\"/>\n       <use x=\"554.541016\" xlink:href=\"#DejaVuSans-105\"/>\n       <use x=\"582.324219\" xlink:href=\"#DejaVuSans-111\"/>\n       <use x=\"643.505859\" xlink:href=\"#DejaVuSans-110\"/>\n      </g>\n     </g>\n    </g>\n    <g id=\"xtick_6\">\n     <g id=\"line2d_6\">\n      <g>\n       <use style=\"stroke:#000000;stroke-width:0.8;\" x=\"452.317188\" xlink:href=\"#mae9dda48d2\" y=\"554.599219\"/>\n      </g>\n     </g>\n     <g id=\"text_6\">\n      <!-- hours_worked -->\n      <g transform=\"translate(454.9375 631.050781)rotate(-90)scale(0.1 -0.1)\">\n       <defs>\n        <path d=\"M 54.890625 33.015625 \nL 54.890625 0 \nL 45.90625 0 \nL 45.90625 32.71875 \nQ 45.90625 40.484375 42.875 44.328125 \nQ 39.84375 48.1875 33.796875 48.1875 \nQ 26.515625 48.1875 22.3125 43.546875 \nQ 18.109375 38.921875 18.109375 30.90625 \nL 18.109375 0 \nL 9.078125 0 \nL 9.078125 75.984375 \nL 18.109375 75.984375 \nL 18.109375 46.1875 \nQ 21.34375 51.125 25.703125 53.5625 \nQ 30.078125 56 35.796875 56 \nQ 45.21875 56 50.046875 50.171875 \nQ 54.890625 44.34375 54.890625 33.015625 \nz\n\" id=\"DejaVuSans-104\"/>\n        <path d=\"M 4.203125 54.6875 \nL 13.1875 54.6875 \nL 24.421875 12.015625 \nL 35.59375 54.6875 \nL 46.1875 54.6875 \nL 57.421875 12.015625 \nL 68.609375 54.6875 \nL 77.59375 54.6875 \nL 63.28125 0 \nL 52.6875 0 \nL 40.921875 44.828125 \nL 29.109375 0 \nL 18.5 0 \nz\n\" id=\"DejaVuSans-119\"/>\n        <path d=\"M 9.078125 75.984375 \nL 18.109375 75.984375 \nL 18.109375 31.109375 \nL 44.921875 54.6875 \nL 56.390625 54.6875 \nL 27.390625 29.109375 \nL 57.625 0 \nL 45.90625 0 \nL 18.109375 26.703125 \nL 18.109375 0 \nL 9.078125 0 \nz\n\" id=\"DejaVuSans-107\"/>\n       </defs>\n       <use xlink:href=\"#DejaVuSans-104\"/>\n       <use x=\"63.378906\" xlink:href=\"#DejaVuSans-111\"/>\n       <use x=\"124.560547\" xlink:href=\"#DejaVuSans-117\"/>\n       <use x=\"187.939453\" xlink:href=\"#DejaVuSans-114\"/>\n       <use x=\"229.052734\" xlink:href=\"#DejaVuSans-115\"/>\n       <use x=\"281.152344\" xlink:href=\"#DejaVuSans-95\"/>\n       <use x=\"331.152344\" xlink:href=\"#DejaVuSans-119\"/>\n       <use x=\"412.939453\" xlink:href=\"#DejaVuSans-111\"/>\n       <use x=\"474.121094\" xlink:href=\"#DejaVuSans-114\"/>\n       <use x=\"515.234375\" xlink:href=\"#DejaVuSans-107\"/>\n       <use x=\"569.519531\" xlink:href=\"#DejaVuSans-101\"/>\n       <use x=\"631.042969\" xlink:href=\"#DejaVuSans-100\"/>\n      </g>\n     </g>\n    </g>\n    <g id=\"xtick_7\">\n     <g id=\"line2d_7\">\n      <g>\n       <use style=\"stroke:#000000;stroke-width:0.8;\" x=\"508.117188\" xlink:href=\"#mae9dda48d2\" y=\"554.599219\"/>\n      </g>\n     </g>\n     <g id=\"text_7\">\n      <!-- tax_wedge -->\n      <g transform=\"translate(510.7375 615.747656)rotate(-90)scale(0.1 -0.1)\">\n       <defs>\n        <path d=\"M 54.890625 54.6875 \nL 35.109375 28.078125 \nL 55.90625 0 \nL 45.3125 0 \nL 29.390625 21.484375 \nL 13.484375 0 \nL 2.875 0 \nL 24.125 28.609375 \nL 4.6875 54.6875 \nL 15.28125 54.6875 \nL 29.78125 35.203125 \nL 44.28125 54.6875 \nz\n\" id=\"DejaVuSans-120\"/>\n       </defs>\n       <use xlink:href=\"#DejaVuSans-116\"/>\n       <use x=\"39.208984\" xlink:href=\"#DejaVuSans-97\"/>\n       <use x=\"100.488281\" xlink:href=\"#DejaVuSans-120\"/>\n       <use x=\"159.667969\" xlink:href=\"#DejaVuSans-95\"/>\n       <use x=\"209.667969\" xlink:href=\"#DejaVuSans-119\"/>\n       <use x=\"291.455078\" xlink:href=\"#DejaVuSans-101\"/>\n       <use x=\"352.978516\" xlink:href=\"#DejaVuSans-100\"/>\n       <use x=\"416.455078\" xlink:href=\"#DejaVuSans-103\"/>\n       <use x=\"479.931641\" xlink:href=\"#DejaVuSans-101\"/>\n      </g>\n     </g>\n    </g>\n    <g id=\"xtick_8\">\n     <g id=\"line2d_8\">\n      <g>\n       <use style=\"stroke:#000000;stroke-width:0.8;\" x=\"563.917188\" xlink:href=\"#mae9dda48d2\" y=\"554.599219\"/>\n      </g>\n     </g>\n     <g id=\"text_8\">\n      <!-- unemployment_spending -->\n      <g transform=\"translate(566.5375 688.344531)rotate(-90)scale(0.1 -0.1)\">\n       <use xlink:href=\"#DejaVuSans-117\"/>\n       <use x=\"63.378906\" xlink:href=\"#DejaVuSans-110\"/>\n       <use x=\"126.757812\" xlink:href=\"#DejaVuSans-101\"/>\n       <use x=\"188.28125\" xlink:href=\"#DejaVuSans-109\"/>\n       <use x=\"285.693359\" xlink:href=\"#DejaVuSans-112\"/>\n       <use x=\"349.169922\" xlink:href=\"#DejaVuSans-108\"/>\n       <use x=\"376.953125\" xlink:href=\"#DejaVuSans-111\"/>\n       <use x=\"438.134766\" xlink:href=\"#DejaVuSans-121\"/>\n       <use x=\"497.314453\" xlink:href=\"#DejaVuSans-109\"/>\n       <use x=\"594.726562\" xlink:href=\"#DejaVuSans-101\"/>\n       <use x=\"656.25\" xlink:href=\"#DejaVuSans-110\"/>\n       <use x=\"719.628906\" xlink:href=\"#DejaVuSans-116\"/>\n       <use x=\"758.837891\" xlink:href=\"#DejaVuSans-95\"/>\n       <use x=\"808.837891\" xlink:href=\"#DejaVuSans-115\"/>\n       <use x=\"860.9375\" xlink:href=\"#DejaVuSans-112\"/>\n       <use x=\"924.414062\" xlink:href=\"#DejaVuSans-101\"/>\n       <use x=\"985.9375\" xlink:href=\"#DejaVuSans-110\"/>\n       <use x=\"1049.316406\" xlink:href=\"#DejaVuSans-100\"/>\n       <use x=\"1112.792969\" xlink:href=\"#DejaVuSans-105\"/>\n       <use x=\"1140.576172\" xlink:href=\"#DejaVuSans-110\"/>\n       <use x=\"1203.955078\" xlink:href=\"#DejaVuSans-103\"/>\n      </g>\n     </g>\n    </g>\n   </g>\n   <g id=\"matplotlib.axis_2\">\n    <g id=\"ytick_1\">\n     <g id=\"line2d_9\">\n      <defs>\n       <path d=\"M 0 0 \nL -3.5 0 \n\" id=\"m3f9b3020dd\" style=\"stroke:#000000;stroke-width:0.8;\"/>\n      </defs>\n      <g>\n       <use style=\"stroke:#000000;stroke-width:0.8;\" x=\"145.417187\" xlink:href=\"#m3f9b3020dd\" y=\"44.974219\"/>\n      </g>\n     </g>\n     <g id=\"text_9\">\n      <!-- year -->\n      <g transform=\"translate(116.10625 48.773438)scale(0.1 -0.1)\">\n       <use xlink:href=\"#DejaVuSans-121\"/>\n       <use x=\"59.179688\" xlink:href=\"#DejaVuSans-101\"/>\n       <use x=\"120.703125\" xlink:href=\"#DejaVuSans-97\"/>\n       <use x=\"181.982422\" xlink:href=\"#DejaVuSans-114\"/>\n      </g>\n     </g>\n    </g>\n    <g id=\"ytick_2\">\n     <g id=\"line2d_10\">\n      <g>\n       <use style=\"stroke:#000000;stroke-width:0.8;\" x=\"145.417187\" xlink:href=\"#m3f9b3020dd\" y=\"112.924219\"/>\n      </g>\n     </g>\n     <g id=\"text_10\">\n      <!-- suicides_no -->\n      <g transform=\"translate(80.648437 116.723438)scale(0.1 -0.1)\">\n       <use xlink:href=\"#DejaVuSans-115\"/>\n       <use x=\"52.099609\" xlink:href=\"#DejaVuSans-117\"/>\n       <use x=\"115.478516\" xlink:href=\"#DejaVuSans-105\"/>\n       <use x=\"143.261719\" xlink:href=\"#DejaVuSans-99\"/>\n       <use x=\"198.242188\" xlink:href=\"#DejaVuSans-105\"/>\n       <use x=\"226.025391\" xlink:href=\"#DejaVuSans-100\"/>\n       <use x=\"289.501953\" xlink:href=\"#DejaVuSans-101\"/>\n       <use x=\"351.025391\" xlink:href=\"#DejaVuSans-115\"/>\n       <use x=\"403.125\" xlink:href=\"#DejaVuSans-95\"/>\n       <use x=\"453.125\" xlink:href=\"#DejaVuSans-110\"/>\n       <use x=\"516.503906\" xlink:href=\"#DejaVuSans-111\"/>\n      </g>\n     </g>\n    </g>\n    <g id=\"ytick_3\">\n     <g id=\"line2d_11\">\n      <g>\n       <use style=\"stroke:#000000;stroke-width:0.8;\" x=\"145.417187\" xlink:href=\"#m3f9b3020dd\" y=\"180.874219\"/>\n      </g>\n     </g>\n     <g id=\"text_11\">\n      <!-- unemployment_rates -->\n      <g transform=\"translate(32.010937 184.673437)scale(0.1 -0.1)\">\n       <use xlink:href=\"#DejaVuSans-117\"/>\n       <use x=\"63.378906\" xlink:href=\"#DejaVuSans-110\"/>\n       <use x=\"126.757812\" xlink:href=\"#DejaVuSans-101\"/>\n       <use x=\"188.28125\" xlink:href=\"#DejaVuSans-109\"/>\n       <use x=\"285.693359\" xlink:href=\"#DejaVuSans-112\"/>\n       <use x=\"349.169922\" xlink:href=\"#DejaVuSans-108\"/>\n       <use x=\"376.953125\" xlink:href=\"#DejaVuSans-111\"/>\n       <use x=\"438.134766\" xlink:href=\"#DejaVuSans-121\"/>\n       <use x=\"497.314453\" xlink:href=\"#DejaVuSans-109\"/>\n       <use x=\"594.726562\" xlink:href=\"#DejaVuSans-101\"/>\n       <use x=\"656.25\" xlink:href=\"#DejaVuSans-110\"/>\n       <use x=\"719.628906\" xlink:href=\"#DejaVuSans-116\"/>\n       <use x=\"758.837891\" xlink:href=\"#DejaVuSans-95\"/>\n       <use x=\"808.837891\" xlink:href=\"#DejaVuSans-114\"/>\n       <use x=\"849.951172\" xlink:href=\"#DejaVuSans-97\"/>\n       <use x=\"911.230469\" xlink:href=\"#DejaVuSans-116\"/>\n       <use x=\"950.439453\" xlink:href=\"#DejaVuSans-101\"/>\n       <use x=\"1011.962891\" xlink:href=\"#DejaVuSans-115\"/>\n      </g>\n     </g>\n    </g>\n    <g id=\"ytick_4\">\n     <g id=\"line2d_12\">\n      <g>\n       <use style=\"stroke:#000000;stroke-width:0.8;\" x=\"145.417187\" xlink:href=\"#m3f9b3020dd\" y=\"248.824219\"/>\n      </g>\n     </g>\n     <g id=\"text_12\">\n      <!-- long_term_unemployment -->\n      <g transform=\"translate(7.2 252.623438)scale(0.1 -0.1)\">\n       <use xlink:href=\"#DejaVuSans-108\"/>\n       <use x=\"27.783203\" xlink:href=\"#DejaVuSans-111\"/>\n       <use x=\"88.964844\" xlink:href=\"#DejaVuSans-110\"/>\n       <use x=\"152.34375\" xlink:href=\"#DejaVuSans-103\"/>\n       <use x=\"215.820312\" xlink:href=\"#DejaVuSans-95\"/>\n       <use x=\"265.820312\" xlink:href=\"#DejaVuSans-116\"/>\n       <use x=\"305.029297\" xlink:href=\"#DejaVuSans-101\"/>\n       <use x=\"366.552734\" xlink:href=\"#DejaVuSans-114\"/>\n       <use x=\"405.916016\" xlink:href=\"#DejaVuSans-109\"/>\n       <use x=\"503.328125\" xlink:href=\"#DejaVuSans-95\"/>\n       <use x=\"553.328125\" xlink:href=\"#DejaVuSans-117\"/>\n       <use x=\"616.707031\" xlink:href=\"#DejaVuSans-110\"/>\n       <use x=\"680.085938\" xlink:href=\"#DejaVuSans-101\"/>\n       <use x=\"741.609375\" xlink:href=\"#DejaVuSans-109\"/>\n       <use x=\"839.021484\" xlink:href=\"#DejaVuSans-112\"/>\n       <use x=\"902.498047\" xlink:href=\"#DejaVuSans-108\"/>\n       <use x=\"930.28125\" xlink:href=\"#DejaVuSans-111\"/>\n       <use x=\"991.462891\" xlink:href=\"#DejaVuSans-121\"/>\n       <use x=\"1050.642578\" xlink:href=\"#DejaVuSans-109\"/>\n       <use x=\"1148.054688\" xlink:href=\"#DejaVuSans-101\"/>\n       <use x=\"1209.578125\" xlink:href=\"#DejaVuSans-110\"/>\n       <use x=\"1272.957031\" xlink:href=\"#DejaVuSans-116\"/>\n      </g>\n     </g>\n    </g>\n    <g id=\"ytick_5\">\n     <g id=\"line2d_13\">\n      <g>\n       <use style=\"stroke:#000000;stroke-width:0.8;\" x=\"145.417187\" xlink:href=\"#m3f9b3020dd\" y=\"316.774219\"/>\n      </g>\n     </g>\n     <g id=\"text_13\">\n      <!-- compensation -->\n      <g transform=\"translate(67.728125 320.573438)scale(0.1 -0.1)\">\n       <use xlink:href=\"#DejaVuSans-99\"/>\n       <use x=\"54.980469\" xlink:href=\"#DejaVuSans-111\"/>\n       <use x=\"116.162109\" xlink:href=\"#DejaVuSans-109\"/>\n       <use x=\"213.574219\" xlink:href=\"#DejaVuSans-112\"/>\n       <use x=\"277.050781\" xlink:href=\"#DejaVuSans-101\"/>\n       <use x=\"338.574219\" xlink:href=\"#DejaVuSans-110\"/>\n       <use x=\"401.953125\" xlink:href=\"#DejaVuSans-115\"/>\n       <use x=\"454.052734\" xlink:href=\"#DejaVuSans-97\"/>\n       <use x=\"515.332031\" xlink:href=\"#DejaVuSans-116\"/>\n       <use x=\"554.541016\" xlink:href=\"#DejaVuSans-105\"/>\n       <use x=\"582.324219\" xlink:href=\"#DejaVuSans-111\"/>\n       <use x=\"643.505859\" xlink:href=\"#DejaVuSans-110\"/>\n      </g>\n     </g>\n    </g>\n    <g id=\"ytick_6\">\n     <g id=\"line2d_14\">\n      <g>\n       <use style=\"stroke:#000000;stroke-width:0.8;\" x=\"145.417187\" xlink:href=\"#m3f9b3020dd\" y=\"384.724219\"/>\n      </g>\n     </g>\n     <g id=\"text_14\">\n      <!-- hours_worked -->\n      <g transform=\"translate(68.965625 388.523438)scale(0.1 -0.1)\">\n       <use xlink:href=\"#DejaVuSans-104\"/>\n       <use x=\"63.378906\" xlink:href=\"#DejaVuSans-111\"/>\n       <use x=\"124.560547\" xlink:href=\"#DejaVuSans-117\"/>\n       <use x=\"187.939453\" xlink:href=\"#DejaVuSans-114\"/>\n       <use x=\"229.052734\" xlink:href=\"#DejaVuSans-115\"/>\n       <use x=\"281.152344\" xlink:href=\"#DejaVuSans-95\"/>\n       <use x=\"331.152344\" xlink:href=\"#DejaVuSans-119\"/>\n       <use x=\"412.939453\" xlink:href=\"#DejaVuSans-111\"/>\n       <use x=\"474.121094\" xlink:href=\"#DejaVuSans-114\"/>\n       <use x=\"515.234375\" xlink:href=\"#DejaVuSans-107\"/>\n       <use x=\"569.519531\" xlink:href=\"#DejaVuSans-101\"/>\n       <use x=\"631.042969\" xlink:href=\"#DejaVuSans-100\"/>\n      </g>\n     </g>\n    </g>\n    <g id=\"ytick_7\">\n     <g id=\"line2d_15\">\n      <g>\n       <use style=\"stroke:#000000;stroke-width:0.8;\" x=\"145.417187\" xlink:href=\"#m3f9b3020dd\" y=\"452.674219\"/>\n      </g>\n     </g>\n     <g id=\"text_15\">\n      <!-- tax_wedge -->\n      <g transform=\"translate(84.26875 456.473437)scale(0.1 -0.1)\">\n       <use xlink:href=\"#DejaVuSans-116\"/>\n       <use x=\"39.208984\" xlink:href=\"#DejaVuSans-97\"/>\n       <use x=\"100.488281\" xlink:href=\"#DejaVuSans-120\"/>\n       <use x=\"159.667969\" xlink:href=\"#DejaVuSans-95\"/>\n       <use x=\"209.667969\" xlink:href=\"#DejaVuSans-119\"/>\n       <use x=\"291.455078\" xlink:href=\"#DejaVuSans-101\"/>\n       <use x=\"352.978516\" xlink:href=\"#DejaVuSans-100\"/>\n       <use x=\"416.455078\" xlink:href=\"#DejaVuSans-103\"/>\n       <use x=\"479.931641\" xlink:href=\"#DejaVuSans-101\"/>\n      </g>\n     </g>\n    </g>\n    <g id=\"ytick_8\">\n     <g id=\"line2d_16\">\n      <g>\n       <use style=\"stroke:#000000;stroke-width:0.8;\" x=\"145.417187\" xlink:href=\"#m3f9b3020dd\" y=\"520.624219\"/>\n      </g>\n     </g>\n     <g id=\"text_16\">\n      <!-- unemployment_spending -->\n      <g transform=\"translate(11.671875 524.423437)scale(0.1 -0.1)\">\n       <use xlink:href=\"#DejaVuSans-117\"/>\n       <use x=\"63.378906\" xlink:href=\"#DejaVuSans-110\"/>\n       <use x=\"126.757812\" xlink:href=\"#DejaVuSans-101\"/>\n       <use x=\"188.28125\" xlink:href=\"#DejaVuSans-109\"/>\n       <use x=\"285.693359\" xlink:href=\"#DejaVuSans-112\"/>\n       <use x=\"349.169922\" xlink:href=\"#DejaVuSans-108\"/>\n       <use x=\"376.953125\" xlink:href=\"#DejaVuSans-111\"/>\n       <use x=\"438.134766\" xlink:href=\"#DejaVuSans-121\"/>\n       <use x=\"497.314453\" xlink:href=\"#DejaVuSans-109\"/>\n       <use x=\"594.726562\" xlink:href=\"#DejaVuSans-101\"/>\n       <use x=\"656.25\" xlink:href=\"#DejaVuSans-110\"/>\n       <use x=\"719.628906\" xlink:href=\"#DejaVuSans-116\"/>\n       <use x=\"758.837891\" xlink:href=\"#DejaVuSans-95\"/>\n       <use x=\"808.837891\" xlink:href=\"#DejaVuSans-115\"/>\n       <use x=\"860.9375\" xlink:href=\"#DejaVuSans-112\"/>\n       <use x=\"924.414062\" xlink:href=\"#DejaVuSans-101\"/>\n       <use x=\"985.9375\" xlink:href=\"#DejaVuSans-110\"/>\n       <use x=\"1049.316406\" xlink:href=\"#DejaVuSans-100\"/>\n       <use x=\"1112.792969\" xlink:href=\"#DejaVuSans-105\"/>\n       <use x=\"1140.576172\" xlink:href=\"#DejaVuSans-110\"/>\n       <use x=\"1203.955078\" xlink:href=\"#DejaVuSans-103\"/>\n      </g>\n     </g>\n    </g>\n   </g>\n  </g>\n  <g id=\"axes_2\">\n   <g id=\"patch_3\">\n    <path clip-path=\"url(#p425f1eac6a)\" d=\"M 619.717188 554.599219 \nL 619.717188 552.475781 \nL 619.717188 13.122656 \nL 619.717188 10.999219 \nL 646.897188 10.999219 \nL 646.897188 13.122656 \nL 646.897188 552.475781 \nL 646.897188 554.599219 \nz\n\" style=\"fill:#ffffff;stroke:#ffffff;stroke-linejoin:miter;stroke-width:0.01;\"/>\n   </g>\n   <image height=\"544\" id=\"image25baeb9536\" transform=\"scale(1 -1)translate(0 -544)\" width=\"27\" x=\"620\" xlink:href=\"data:image/png;base64,\niVBORw0KGgoAAAANSUhEUgAAABsAAAIgCAYAAAB09hISAAACh0lEQVR4nO2cgU3FQAzFrqUswf57fob41pNq2QtE0XOSoyCun9+/zxlxrwqdc85zDYuNO7t2vdUZwnMdaWcJgvDc2s606psz03Z2a20UZ2btLEEQGmqEngUI3nUltrENQiA+nmZBdvU6MQjmE1NmAGWGUGYI5mdBggD0lEPwvvXLDKENguC1MfURvIKIO/P+wVCPVILmDMG79RMEQT3UOxpqhOYMoTlD8NrYukIQq29eV97OdmQjgthG7ReePichtK4QygyhzBA6nggdTwSxIN6hbhETtK4Q2iAI2fi+YqmPkPoIZhtn/xOqOYNQz9mOjidC6iN41RefmGwkqDME75w11Ahm9YfFxjZah1qcmbgzrY3arZ/6CKmPsLZxF1o2Iog3iHjOPto5GxYTPwvE6ndiANY2ajMbFqszhGxEUB9PryDazoYvnmxE8K6r5xr+FmE9Z9bOtD8yJQhCQ42wzmxXLBsRshEhG99XzKz+8OtmQ42gzszamXmD7Ipl4/uKqdfVrliZIZg7y0aAjidCxxPBLEhDDbDt7FiHWpxZnRGM58zaWYIgeAUpM4R1ZtZ/s1JmBGX2vmLP0QqS+gTZiKC2sc6+Z/3ZVtpZgiCoO9vVKzOEjifC+pcIzdn3dDwR1usq9b+ndYVgzqw5A2jOELyZdTwRvII01AgdT4TnWD9umjOzdta6QlCfGGtn4s+22QhQZwjeB0+CILSuEOoMwbuuzJl5O7PuxgRB8ApSZghlhmDuLBsBzMczQQDKDEGc2XX9zIqVGYK5M+sGSRAEryDPubWLWJyZtjNtZj14CMzHU6u+VhB1Ztp1Jc7M2tlVZgAdT4QWMYI6M2tnLWKC5gzBuxunxf4Bkfgv//SdCtcAAAAASUVORK5CYII=\" y=\"-11\"/>\n   <g id=\"matplotlib.axis_3\"/>\n   <g id=\"matplotlib.axis_4\">\n    <g id=\"ytick_9\">\n     <g id=\"line2d_17\">\n      <defs>\n       <path d=\"M 0 0 \nL 3.5 0 \n\" id=\"m37ea221fd6\" style=\"stroke:#000000;stroke-width:0.8;\"/>\n      </defs>\n      <g>\n       <use style=\"stroke:#000000;stroke-width:0.8;\" x=\"646.897188\" xlink:href=\"#m37ea221fd6\" y=\"496.630448\"/>\n      </g>\n     </g>\n     <g id=\"text_17\">\n      <!-- −0.2 -->\n      <g transform=\"translate(653.897188 500.429667)scale(0.1 -0.1)\">\n       <defs>\n        <path d=\"M 10.59375 35.5 \nL 73.1875 35.5 \nL 73.1875 27.203125 \nL 10.59375 27.203125 \nz\n\" id=\"DejaVuSans-8722\"/>\n        <path d=\"M 31.78125 66.40625 \nQ 24.171875 66.40625 20.328125 58.90625 \nQ 16.5 51.421875 16.5 36.375 \nQ 16.5 21.390625 20.328125 13.890625 \nQ 24.171875 6.390625 31.78125 6.390625 \nQ 39.453125 6.390625 43.28125 13.890625 \nQ 47.125 21.390625 47.125 36.375 \nQ 47.125 51.421875 43.28125 58.90625 \nQ 39.453125 66.40625 31.78125 66.40625 \nz\nM 31.78125 74.21875 \nQ 44.046875 74.21875 50.515625 64.515625 \nQ 56.984375 54.828125 56.984375 36.375 \nQ 56.984375 17.96875 50.515625 8.265625 \nQ 44.046875 -1.421875 31.78125 -1.421875 \nQ 19.53125 -1.421875 13.0625 8.265625 \nQ 6.59375 17.96875 6.59375 36.375 \nQ 6.59375 54.828125 13.0625 64.515625 \nQ 19.53125 74.21875 31.78125 74.21875 \nz\n\" id=\"DejaVuSans-48\"/>\n        <path d=\"M 10.6875 12.40625 \nL 21 12.40625 \nL 21 0 \nL 10.6875 0 \nz\n\" id=\"DejaVuSans-46\"/>\n        <path d=\"M 19.1875 8.296875 \nL 53.609375 8.296875 \nL 53.609375 0 \nL 7.328125 0 \nL 7.328125 8.296875 \nQ 12.9375 14.109375 22.625 23.890625 \nQ 32.328125 33.6875 34.8125 36.53125 \nQ 39.546875 41.84375 41.421875 45.53125 \nQ 43.3125 49.21875 43.3125 52.78125 \nQ 43.3125 58.59375 39.234375 62.25 \nQ 35.15625 65.921875 28.609375 65.921875 \nQ 23.96875 65.921875 18.8125 64.3125 \nQ 13.671875 62.703125 7.8125 59.421875 \nL 7.8125 69.390625 \nQ 13.765625 71.78125 18.9375 73 \nQ 24.125 74.21875 28.421875 74.21875 \nQ 39.75 74.21875 46.484375 68.546875 \nQ 53.21875 62.890625 53.21875 53.421875 \nQ 53.21875 48.921875 51.53125 44.890625 \nQ 49.859375 40.875 45.40625 35.40625 \nQ 44.1875 33.984375 37.640625 27.21875 \nQ 31.109375 20.453125 19.1875 8.296875 \nz\n\" id=\"DejaVuSans-50\"/>\n       </defs>\n       <use xlink:href=\"#DejaVuSans-8722\"/>\n       <use x=\"83.789062\" xlink:href=\"#DejaVuSans-48\"/>\n       <use x=\"147.412109\" xlink:href=\"#DejaVuSans-46\"/>\n       <use x=\"179.199219\" xlink:href=\"#DejaVuSans-50\"/>\n      </g>\n     </g>\n    </g>\n    <g id=\"ytick_10\">\n     <g id=\"line2d_18\">\n      <g>\n       <use style=\"stroke:#000000;stroke-width:0.8;\" x=\"646.897188\" xlink:href=\"#m37ea221fd6\" y=\"415.69191\"/>\n      </g>\n     </g>\n     <g id=\"text_18\">\n      <!-- 0.0 -->\n      <g transform=\"translate(653.897188 419.491129)scale(0.1 -0.1)\">\n       <use xlink:href=\"#DejaVuSans-48\"/>\n       <use x=\"63.623047\" xlink:href=\"#DejaVuSans-46\"/>\n       <use x=\"95.410156\" xlink:href=\"#DejaVuSans-48\"/>\n      </g>\n     </g>\n    </g>\n    <g id=\"ytick_11\">\n     <g id=\"line2d_19\">\n      <g>\n       <use style=\"stroke:#000000;stroke-width:0.8;\" x=\"646.897188\" xlink:href=\"#m37ea221fd6\" y=\"334.753372\"/>\n      </g>\n     </g>\n     <g id=\"text_19\">\n      <!-- 0.2 -->\n      <g transform=\"translate(653.897188 338.552591)scale(0.1 -0.1)\">\n       <use xlink:href=\"#DejaVuSans-48\"/>\n       <use x=\"63.623047\" xlink:href=\"#DejaVuSans-46\"/>\n       <use x=\"95.410156\" xlink:href=\"#DejaVuSans-50\"/>\n      </g>\n     </g>\n    </g>\n    <g id=\"ytick_12\">\n     <g id=\"line2d_20\">\n      <g>\n       <use style=\"stroke:#000000;stroke-width:0.8;\" x=\"646.897188\" xlink:href=\"#m37ea221fd6\" y=\"253.814834\"/>\n      </g>\n     </g>\n     <g id=\"text_20\">\n      <!-- 0.4 -->\n      <g transform=\"translate(653.897188 257.614052)scale(0.1 -0.1)\">\n       <defs>\n        <path d=\"M 37.796875 64.3125 \nL 12.890625 25.390625 \nL 37.796875 25.390625 \nz\nM 35.203125 72.90625 \nL 47.609375 72.90625 \nL 47.609375 25.390625 \nL 58.015625 25.390625 \nL 58.015625 17.1875 \nL 47.609375 17.1875 \nL 47.609375 0 \nL 37.796875 0 \nL 37.796875 17.1875 \nL 4.890625 17.1875 \nL 4.890625 26.703125 \nz\n\" id=\"DejaVuSans-52\"/>\n       </defs>\n       <use xlink:href=\"#DejaVuSans-48\"/>\n       <use x=\"63.623047\" xlink:href=\"#DejaVuSans-46\"/>\n       <use x=\"95.410156\" xlink:href=\"#DejaVuSans-52\"/>\n      </g>\n     </g>\n    </g>\n    <g id=\"ytick_13\">\n     <g id=\"line2d_21\">\n      <g>\n       <use style=\"stroke:#000000;stroke-width:0.8;\" x=\"646.897188\" xlink:href=\"#m37ea221fd6\" y=\"172.876295\"/>\n      </g>\n     </g>\n     <g id=\"text_21\">\n      <!-- 0.6 -->\n      <g transform=\"translate(653.897188 176.675514)scale(0.1 -0.1)\">\n       <defs>\n        <path d=\"M 33.015625 40.375 \nQ 26.375 40.375 22.484375 35.828125 \nQ 18.609375 31.296875 18.609375 23.390625 \nQ 18.609375 15.53125 22.484375 10.953125 \nQ 26.375 6.390625 33.015625 6.390625 \nQ 39.65625 6.390625 43.53125 10.953125 \nQ 47.40625 15.53125 47.40625 23.390625 \nQ 47.40625 31.296875 43.53125 35.828125 \nQ 39.65625 40.375 33.015625 40.375 \nz\nM 52.59375 71.296875 \nL 52.59375 62.3125 \nQ 48.875 64.0625 45.09375 64.984375 \nQ 41.3125 65.921875 37.59375 65.921875 \nQ 27.828125 65.921875 22.671875 59.328125 \nQ 17.53125 52.734375 16.796875 39.40625 \nQ 19.671875 43.65625 24.015625 45.921875 \nQ 28.375 48.1875 33.59375 48.1875 \nQ 44.578125 48.1875 50.953125 41.515625 \nQ 57.328125 34.859375 57.328125 23.390625 \nQ 57.328125 12.15625 50.6875 5.359375 \nQ 44.046875 -1.421875 33.015625 -1.421875 \nQ 20.359375 -1.421875 13.671875 8.265625 \nQ 6.984375 17.96875 6.984375 36.375 \nQ 6.984375 53.65625 15.1875 63.9375 \nQ 23.390625 74.21875 37.203125 74.21875 \nQ 40.921875 74.21875 44.703125 73.484375 \nQ 48.484375 72.75 52.59375 71.296875 \nz\n\" id=\"DejaVuSans-54\"/>\n       </defs>\n       <use xlink:href=\"#DejaVuSans-48\"/>\n       <use x=\"63.623047\" xlink:href=\"#DejaVuSans-46\"/>\n       <use x=\"95.410156\" xlink:href=\"#DejaVuSans-54\"/>\n      </g>\n     </g>\n    </g>\n    <g id=\"ytick_14\">\n     <g id=\"line2d_22\">\n      <g>\n       <use style=\"stroke:#000000;stroke-width:0.8;\" x=\"646.897188\" xlink:href=\"#m37ea221fd6\" y=\"91.937757\"/>\n      </g>\n     </g>\n     <g id=\"text_22\">\n      <!-- 0.8 -->\n      <g transform=\"translate(653.897188 95.736976)scale(0.1 -0.1)\">\n       <defs>\n        <path d=\"M 31.78125 34.625 \nQ 24.75 34.625 20.71875 30.859375 \nQ 16.703125 27.09375 16.703125 20.515625 \nQ 16.703125 13.921875 20.71875 10.15625 \nQ 24.75 6.390625 31.78125 6.390625 \nQ 38.8125 6.390625 42.859375 10.171875 \nQ 46.921875 13.96875 46.921875 20.515625 \nQ 46.921875 27.09375 42.890625 30.859375 \nQ 38.875 34.625 31.78125 34.625 \nz\nM 21.921875 38.8125 \nQ 15.578125 40.375 12.03125 44.71875 \nQ 8.5 49.078125 8.5 55.328125 \nQ 8.5 64.0625 14.71875 69.140625 \nQ 20.953125 74.21875 31.78125 74.21875 \nQ 42.671875 74.21875 48.875 69.140625 \nQ 55.078125 64.0625 55.078125 55.328125 \nQ 55.078125 49.078125 51.53125 44.71875 \nQ 48 40.375 41.703125 38.8125 \nQ 48.828125 37.15625 52.796875 32.3125 \nQ 56.78125 27.484375 56.78125 20.515625 \nQ 56.78125 9.90625 50.3125 4.234375 \nQ 43.84375 -1.421875 31.78125 -1.421875 \nQ 19.734375 -1.421875 13.25 4.234375 \nQ 6.78125 9.90625 6.78125 20.515625 \nQ 6.78125 27.484375 10.78125 32.3125 \nQ 14.796875 37.15625 21.921875 38.8125 \nz\nM 18.3125 54.390625 \nQ 18.3125 48.734375 21.84375 45.5625 \nQ 25.390625 42.390625 31.78125 42.390625 \nQ 38.140625 42.390625 41.71875 45.5625 \nQ 45.3125 48.734375 45.3125 54.390625 \nQ 45.3125 60.0625 41.71875 63.234375 \nQ 38.140625 66.40625 31.78125 66.40625 \nQ 25.390625 66.40625 21.84375 63.234375 \nQ 18.3125 60.0625 18.3125 54.390625 \nz\n\" id=\"DejaVuSans-56\"/>\n       </defs>\n       <use xlink:href=\"#DejaVuSans-48\"/>\n       <use x=\"63.623047\" xlink:href=\"#DejaVuSans-46\"/>\n       <use x=\"95.410156\" xlink:href=\"#DejaVuSans-56\"/>\n      </g>\n     </g>\n    </g>\n    <g id=\"ytick_15\">\n     <g id=\"line2d_23\">\n      <g>\n       <use style=\"stroke:#000000;stroke-width:0.8;\" x=\"646.897188\" xlink:href=\"#m37ea221fd6\" y=\"10.999219\"/>\n      </g>\n     </g>\n     <g id=\"text_23\">\n      <!-- 1.0 -->\n      <g transform=\"translate(653.897188 14.798437)scale(0.1 -0.1)\">\n       <defs>\n        <path d=\"M 12.40625 8.296875 \nL 28.515625 8.296875 \nL 28.515625 63.921875 \nL 10.984375 60.40625 \nL 10.984375 69.390625 \nL 28.421875 72.90625 \nL 38.28125 72.90625 \nL 38.28125 8.296875 \nL 54.390625 8.296875 \nL 54.390625 0 \nL 12.40625 0 \nz\n\" id=\"DejaVuSans-49\"/>\n       </defs>\n       <use xlink:href=\"#DejaVuSans-49\"/>\n       <use x=\"63.623047\" xlink:href=\"#DejaVuSans-46\"/>\n       <use x=\"95.410156\" xlink:href=\"#DejaVuSans-48\"/>\n      </g>\n     </g>\n    </g>\n   </g>\n   <g id=\"patch_4\">\n    <path d=\"M 619.717188 554.599219 \nL 619.717188 552.475781 \nL 619.717188 13.122656 \nL 619.717188 10.999219 \nL 646.897188 10.999219 \nL 646.897188 13.122656 \nL 646.897188 552.475781 \nL 646.897188 554.599219 \nz\n\" style=\"fill:none;\"/>\n   </g>\n  </g>\n </g>\n <defs>\n  <clipPath id=\"p5436330573\">\n   <rect height=\"543.6\" width=\"446.4\" x=\"145.417187\" y=\"10.999219\"/>\n  </clipPath>\n  <clipPath id=\"p425f1eac6a\">\n   <rect height=\"543.6\" width=\"27.18\" x=\"619.717188\" y=\"10.999219\"/>\n  </clipPath>\n </defs>\n</svg>\n",
      "image/png": "[encoded data removed]"
     },
     "metadata": {
      "needs_background": "light"
     }
    }
   ],
   "source": [
    "plt.figure(figsize=(10,10))\n",
    "sns.heatmap(c)"
   ]
  },
  {
   "source": [
    "# Machine Learning Models\n",
    "\n",
    "## Train and test splits\n"
   ],
   "cell_type": "markdown",
   "metadata": {}
  },
  {
   "cell_type": "code",
   "execution_count": 504,
   "metadata": {},
   "outputs": [],
   "source": [
    "y = merged_data.suicides_no # Target variable\n",
    "X = merged_data.drop('suicides_no', axis=1) # Input features"
   ]
  },
  {
   "cell_type": "code",
   "execution_count": 526,
   "metadata": {},
   "outputs": [
    {
     "output_type": "error",
     "ename": "ModuleNotFoundError",
     "evalue": "No module named 'sklearn'",
     "traceback": [
      "\u001b[0;31m---------------------------------------------------------------------------\u001b[0m",
      "\u001b[0;31mModuleNotFoundError\u001b[0m                       Traceback (most recent call last)",
      "\u001b[0;32m<ipython-input-526-a12af78a859f>\u001b[0m in \u001b[0;36m<module>\u001b[0;34m\u001b[0m\n\u001b[0;32m----> 1\u001b[0;31m \u001b[0;32mfrom\u001b[0m \u001b[0msklearn\u001b[0m\u001b[0;34m.\u001b[0m\u001b[0mmodel_selection\u001b[0m \u001b[0;32mimport\u001b[0m \u001b[0mtrain_test_split\u001b[0m\u001b[0;34m\u001b[0m\u001b[0;34m\u001b[0m\u001b[0m\n\u001b[0m\u001b[1;32m      2\u001b[0m \u001b[0;34m\u001b[0m\u001b[0m\n\u001b[1;32m      3\u001b[0m \u001b[0mX_train\u001b[0m\u001b[0;34m,\u001b[0m \u001b[0mX_test\u001b[0m\u001b[0;34m,\u001b[0m \u001b[0my_train\u001b[0m\u001b[0;34m,\u001b[0m \u001b[0my_test\u001b[0m \u001b[0;34m=\u001b[0m \u001b[0mtrain_test_split\u001b[0m\u001b[0;34m(\u001b[0m\u001b[0mX\u001b[0m\u001b[0;34m,\u001b[0m \u001b[0my\u001b[0m\u001b[0;34m,\u001b[0m \u001b[0mtest_size\u001b[0m\u001b[0;34m=\u001b[0m\u001b[0;36m0.2\u001b[0m\u001b[0;34m,\u001b[0m \u001b[0mrandom_state\u001b[0m\u001b[0;34m=\u001b[0m\u001b[0;36m1234\u001b[0m\u001b[0;34m)\u001b[0m\u001b[0;34m\u001b[0m\u001b[0;34m\u001b[0m\u001b[0m\n",
      "\u001b[0;31mModuleNotFoundError\u001b[0m: No module named 'sklearn'"
     ]
    }
   ],
   "source": [
    "from sklearn.model_selection import train_test_split\n",
    "\n",
    "X_train, X_test, y_train, y_test = train_test_split(X, y, test_size=0.2, random_state=1234)"
   ]
  },
  {
   "cell_type": "code",
   "execution_count": null,
   "metadata": {},
   "outputs": [],
   "source": []
  }
 ]
}